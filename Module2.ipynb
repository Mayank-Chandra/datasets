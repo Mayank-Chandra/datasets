{
 "cells": [
  {
   "cell_type": "code",
   "execution_count": 4,
   "id": "bdfeafd4",
   "metadata": {},
   "outputs": [],
   "source": [
    "def sorting():\n",
    "    l=[13,2,-3,4,54,8,3]\n",
    "    for i in range(len(l)):\n",
    "        for j in range(i+1,len(l)):\n",
    "            if l[j]<l[i]:\n",
    "                temp=l[i]\n",
    "                l[i]=l[j]\n",
    "                l[j]=temp\n",
    "    print(l)\n",
    "\n",
    "myName=\"Module By Mayank Chandra\""
   ]
  },
  {
   "cell_type": "code",
   "execution_count": null,
   "id": "189cb149",
   "metadata": {},
   "outputs": [],
   "source": []
  }
 ],
 "metadata": {
  "kernelspec": {
   "display_name": "Python 3",
   "language": "python",
   "name": "python3"
  },
  "language_info": {
   "codemirror_mode": {
    "name": "ipython",
    "version": 3
   },
   "file_extension": ".py",
   "mimetype": "text/x-python",
   "name": "python",
   "nbconvert_exporter": "python",
   "pygments_lexer": "ipython3",
   "version": "3.8.8"
  }
 },
 "nbformat": 4,
 "nbformat_minor": 5
}
