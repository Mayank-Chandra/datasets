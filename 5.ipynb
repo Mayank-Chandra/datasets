{
 "cells": [
  {
   "cell_type": "code",
   "execution_count": 11,
   "id": "54250ce2",
   "metadata": {},
   "outputs": [
    {
     "name": "stdout",
     "output_type": "stream",
     "text": [
      "Hard Voting Score  1\n",
      "Soft Voting Score  1\n"
     ]
    }
   ],
   "source": [
    "# importing libraries\n",
    "from sklearn.ensemble import VotingClassifier\n",
    "from sklearn.linear_model import LogisticRegression\n",
    "from sklearn.svm import SVC\n",
    "from sklearn.tree import DecisionTreeClassifier\n",
    "from sklearn.datasets import load_iris\n",
    "from sklearn.metrics import accuracy_score\n",
    "from sklearn.model_selection import train_test_split\n",
    "\n",
    "# loading iris dataset\n",
    "iris = load_iris()\n",
    "X = iris.data[:, :4]\n",
    "Y = iris.target\n",
    "\n",
    "# train_test_split\n",
    "X_train, X_test, y_train, y_test = train_test_split(X,\n",
    "\t\t\t\t\t\t\t\t\t\t\t\t\tY,\n",
    "\t\t\t\t\t\t\t\t\t\t\t\t\ttest_size = 0.20,\n",
    "\t\t\t\t\t\t\t\t\t\t\t\t\trandom_state = 42)\n",
    "\n",
    "# group / ensemble of models\n",
    "estimator = []\n",
    "estimator.append(('LR',\n",
    "\t\t\t\tLogisticRegression(solver ='lbfgs',\n",
    "\t\t\t\t\t\t\t\t\tmulti_class ='multinomial',\n",
    "\t\t\t\t\t\t\t\t\tmax_iter = 200)))\n",
    "estimator.append(('SVC', SVC(gamma ='auto', probability = True)))\n",
    "estimator.append(('DTC', DecisionTreeClassifier()))\n",
    "\n",
    "# Voting Classifier with hard voting\n",
    "vot_hard = VotingClassifier(estimators = estimator, voting ='hard')\n",
    "vot_hard.fit(X_train, y_train)\n",
    "y_pred = vot_hard.predict(X_test)\n",
    "\n",
    "# using accuracy_score metric to predict accuracy\n",
    "score = accuracy_score(y_test, y_pred)\n",
    "print(\"Hard Voting Score % d\" % score)\n",
    "\n",
    "# Voting Classifier with soft voting\n",
    "vot_soft = VotingClassifier(estimators = estimator, voting ='soft')\n",
    "vot_soft.fit(X_train, y_train)\n",
    "y_pred = vot_soft.predict(X_test)\n",
    "\n",
    "# using accuracy_score\n",
    "score = accuracy_score(y_test, y_pred)\n",
    "print(\"Soft Voting Score % d\" % score)\n"
   ]
  },
  {
   "cell_type": "code",
   "execution_count": 24,
   "id": "11da95fa",
   "metadata": {},
   "outputs": [
    {
     "ename": "AttributeError",
     "evalue": "module 'sklearn.model_selection' has no attribute 'Kfold'",
     "output_type": "error",
     "traceback": [
      "\u001b[1;31m---------------------------------------------------------------------------\u001b[0m",
      "\u001b[1;31mAttributeError\u001b[0m                            Traceback (most recent call last)",
      "\u001b[1;32m<ipython-input-24-2366ea629b8a>\u001b[0m in \u001b[0;36m<module>\u001b[1;34m\u001b[0m\n\u001b[0;32m     10\u001b[0m \u001b[0my\u001b[0m\u001b[1;33m=\u001b[0m\u001b[0marr\u001b[0m\u001b[1;33m[\u001b[0m\u001b[1;33m:\u001b[0m\u001b[1;33m,\u001b[0m\u001b[1;36m0\u001b[0m\u001b[1;33m]\u001b[0m\u001b[1;33m\u001b[0m\u001b[1;33m\u001b[0m\u001b[0m\n\u001b[0;32m     11\u001b[0m \u001b[0mseed\u001b[0m\u001b[1;33m=\u001b[0m\u001b[1;36m8\u001b[0m\u001b[1;33m\u001b[0m\u001b[1;33m\u001b[0m\u001b[0m\n\u001b[1;32m---> 12\u001b[1;33m \u001b[0mkfold\u001b[0m\u001b[1;33m=\u001b[0m\u001b[0mmodel_selection\u001b[0m\u001b[1;33m.\u001b[0m\u001b[0mKfold\u001b[0m\u001b[1;33m(\u001b[0m\u001b[0mn_splits\u001b[0m\u001b[1;33m=\u001b[0m\u001b[1;36m3\u001b[0m\u001b[1;33m,\u001b[0m\u001b[0mrandom_state\u001b[0m\u001b[1;33m=\u001b[0m\u001b[0mseed\u001b[0m\u001b[1;33m)\u001b[0m\u001b[1;33m\u001b[0m\u001b[1;33m\u001b[0m\u001b[0m\n\u001b[0m\u001b[0;32m     13\u001b[0m \u001b[1;31m#initialize the base Classifier\u001b[0m\u001b[1;33m\u001b[0m\u001b[1;33m\u001b[0m\u001b[1;33m\u001b[0m\u001b[0m\n\u001b[0;32m     14\u001b[0m \u001b[0mbase_cls\u001b[0m\u001b[1;33m=\u001b[0m\u001b[0mDecisionTreeClassifier\u001b[0m\u001b[1;33m(\u001b[0m\u001b[1;33m)\u001b[0m\u001b[1;33m\u001b[0m\u001b[1;33m\u001b[0m\u001b[0m\n",
      "\u001b[1;31mAttributeError\u001b[0m: module 'sklearn.model_selection' has no attribute 'Kfold'"
     ]
    }
   ],
   "source": [
    "from sklearn import model_selection \n",
    "from sklearn.ensemble import BaggingClassifier\n",
    "from sklearn.tree import DecisionTreeClassifier\n",
    "import pandas as pd\n",
    "#load the data\n",
    "url=\"Wine_data.xlsx\"\n",
    "dataframe=pd.read_excel(url)\n",
    "arr=dataframe.values\n",
    "x=arr[:,1:14]\n",
    "y=arr[:,0]\n",
    "seed=8\n",
    "kfold=model_selection.Kfold(n_splits=3,random_state=seed)\n",
    "#initialize the base Classifier\n",
    "base_cls=DecisionTreeClassifier()\n",
    "\n",
    "#no of base classifier\n",
    "num_trees=500\n",
    "#bagging classifier\n",
    "model=BaggingClassifier(base_estimator=base_cls,n_estimators=num_trees,random_state=seed)\n",
    "results=model_selection.cross_val_score(model,x,y,cv=kfold)\n",
    "print(\"accuracy:\")\n",
    "print(results.mean())"
   ]
  },
  {
   "cell_type": "code",
   "execution_count": null,
   "id": "9eb35473",
   "metadata": {},
   "outputs": [],
   "source": [
    "import numpy as np\n",
    "import matplotlib.pyplot as plt"
   ]
  },
  {
   "cell_type": "code",
   "execution_count": null,
   "id": "d99bc93b",
   "metadata": {},
   "outputs": [],
   "source": [
    "impo"
   ]
  }
 ],
 "metadata": {
  "kernelspec": {
   "display_name": "Python 3",
   "language": "python",
   "name": "python3"
  },
  "language_info": {
   "codemirror_mode": {
    "name": "ipython",
    "version": 3
   },
   "file_extension": ".py",
   "mimetype": "text/x-python",
   "name": "python",
   "nbconvert_exporter": "python",
   "pygments_lexer": "ipython3",
   "version": "3.8.8"
  }
 },
 "nbformat": 4,
 "nbformat_minor": 5
}
