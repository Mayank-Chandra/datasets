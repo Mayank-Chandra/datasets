{
 "cells": [
  {
   "cell_type": "code",
   "execution_count": 1,
   "id": "fe1f089b",
   "metadata": {},
   "outputs": [
    {
     "name": "stdout",
     "output_type": "stream",
     "text": [
      "Array is of type:  <class 'numpy.ndarray'>\n",
      "No. of Dimensions: 2\n",
      "Shape of Array: (2, 3)\n",
      "Size of Array: 6\n",
      "Array stores elements of types: int32\n"
     ]
    }
   ],
   "source": [
    "import numpy as np\n",
    "arr=np.array([[1,2,3],[4,5,6]])\n",
    "print(\"Array is of type: \",type(arr))\n",
    "print(\"No. of Dimensions:\", arr.ndim)\n",
    "print(\"Shape of Array:\",arr.shape)\n",
    "print(\"Size of Array:\",arr.size)\n",
    "print(\"Array stores elements of types:\",arr.dtype)"
   ]
  },
  {
   "cell_type": "code",
   "execution_count": 3,
   "id": "c3d0727e",
   "metadata": {},
   "outputs": [
    {
     "name": "stdout",
     "output_type": "stream",
     "text": [
      "Array created using passed list:\n",
      " [[1. 2. 4.]\n",
      " [5. 8. 7.]]\n",
      "\n",
      " Array created using passed tuple:\n",
      " [1 3 2]\n",
      "\n",
      "An array initialized with all zeros:\n",
      " [[0. 0. 0. 0.]\n",
      " [0. 0. 0. 0.]\n",
      " [0. 0. 0. 0.]]\n",
      "\n",
      " An array initialized with all 6s. Array type is complex:\n",
      " [[6.+0.j 6.+0.j 6.+0.j]\n",
      " [6.+0.j 6.+0.j 6.+0.j]\n",
      " [6.+0.j 6.+0.j 6.+0.j]]\n",
      "\n",
      "A random array:\n",
      " [[0.24353489 0.71224404]\n",
      " [0.02591275 0.94762795]]\n",
      "\n",
      "A sequential array with steps of 5:\n",
      " [ 0  5 10 15 20 25 30]\n",
      "\n",
      " A sequential array with 10 values between 0 and 5:\n",
      " [0.         0.55555556 1.11111111 1.66666667 2.22222222 2.77777778\n",
      " 3.33333333 3.88888889 4.44444444 5.        ]\n",
      "\n",
      "Original array:\n",
      " [[1 2 3 4]\n",
      " [5 2 4 2]\n",
      " [1 2 0 1]]\n",
      "Reshape array:\n",
      " [[[1 2 3]\n",
      "  [4 5 2]]\n",
      "\n",
      " [[4 2 1]\n",
      "  [2 0 1]]]\n",
      "\n",
      "Original array:\n",
      " [[1 2 3]\n",
      " [4 5 6]]\n",
      "Fattend array:\n",
      " [1 2 3 4 5 6]\n"
     ]
    }
   ],
   "source": [
    "import numpy as np\n",
    "#Creating array from list with float\n",
    "a=np.array([[1,2,4],[5,8,7]],dtype='float')\n",
    "print(\"Array created using passed list:\\n\",a)\n",
    "#Creating array using tuple\n",
    "b=np.array((1,3,2))\n",
    "print(\"\\n Array created using passed tuple:\\n\",b)\n",
    "#Creating a 3X4 array with all zeros\n",
    "c=np.zeros((3,4))\n",
    "print(\"\\nAn array initialized with all zeros:\\n\",c)\n",
    "#Create a constant value array of complex type\n",
    "d=np.full((3,3),6,dtype='complex')\n",
    "print(\"\\n An array initialized with all 6s. Array type is complex:\\n\",d)\n",
    "#Crete an array with random values\n",
    "e=np.random.random((2,2))\n",
    "print(\"\\nA random array:\\n\",e)\n",
    "#Create a sequence of integers\n",
    "#from 0 to 30 with steps of 5\n",
    "f=np.arange(0,35,5)\n",
    "print(\"\\nA sequential array with steps of 5:\\n\",f)\n",
    "#Create a sequence of 10 values in range 0 to 5\n",
    "g=np.linspace(0,5,10)\n",
    "print(\"\\n A sequential array with 10 values between 0 and 5:\\n\",g)\n",
    "#Reshaping 3X4 array to 2X2X3 array\n",
    "arr=np.array([[1,2,3,4],[5,2,4,2],[1,2,0,1]])\n",
    "newarr=arr.reshape(2,2,3)\n",
    "print(\"\\nOriginal array:\\n\",arr)\n",
    "print(\"Reshape array:\\n\",newarr)\n",
    "#flatten array\n",
    "arr=np.array([[1,2,3],[4,5,6]])\n",
    "flarr=arr.flatten()\n",
    "print(\"\\nOriginal array:\\n\",arr)\n",
    "print(\"Fattend array:\\n\",flarr)"
   ]
  },
  {
   "cell_type": "code",
   "execution_count": 6,
   "id": "c1bafceb",
   "metadata": {},
   "outputs": [
    {
     "name": "stdout",
     "output_type": "stream",
     "text": [
      "[[-1.   2.   0.   4. ]\n",
      " [ 4.  -0.5  6.   0. ]\n",
      " [ 2.6  0.   7.   8. ]\n",
      " [ 3.  -7.   4.   2. ]]\n",
      "Array with first 2 rows and alternate columns(0 and 2):\n",
      " [[-1.  0.]\n",
      " [ 4.  6.]]\n",
      "\n",
      " Element at indices (0,3),(1,2),(2,1),(3,0):\n",
      " [4. 6. 0. 3.]\n",
      "\n",
      " Elements greater than 0:\n",
      " [2.  4.  4.  6.  2.6 7.  8.  3.  4.  2. ]\n"
     ]
    }
   ],
   "source": [
    "import numpy as np\n",
    "#An exemplar array\n",
    "arr=np.array([[-1,2,0,4],[4,-0.5,6,0],[2.6,0,7,8],[3,-7,4,2.0]])\n",
    "print(arr)\n",
    "#Slicing array\n",
    "temp=arr[:2,::2]\n",
    "print(\"Array with first 2 rows and alternate columns(0 and 2):\\n\",temp)\n",
    "#integer array indexing example\n",
    "temp=arr[[0,1,2,3],[3,2,1,0]]\n",
    "print(\"\\n Element at indices (0,3),(1,2),(2,1),(3,0):\\n\",temp)\n",
    "#Boolean array indexing example\n",
    "cond=arr>0# cond is a boolean array\n",
    "temp=arr[cond]\n",
    "print(\"\\n Elements greater than 0:\\n\",temp)"
   ]
  },
  {
   "cell_type": "code",
   "execution_count": 7,
   "id": "ffe0f8c7",
   "metadata": {},
   "outputs": [
    {
     "name": "stdout",
     "output_type": "stream",
     "text": [
      "Adding 1 to every element: [2 3 6 4]\n",
      "Subtracting 3 from each elements: [-2 -1  2  0]\n",
      "Multiplying each elements by 10: [10 20 50 30]\n",
      "Squareing each element: [ 1  4 25  9]\n",
      "Doubled each element of original array: [ 2  4 10  6]\n",
      "\n",
      " Original array:\n",
      " [[1 2 3]\n",
      " [3 4 5]\n",
      " [9 6 0]]\n",
      "Transponse of array\n",
      " [[1 3 9]\n",
      " [2 4 6]\n",
      " [3 5 0]]\n"
     ]
    }
   ],
   "source": [
    "import numpy as np\n",
    "a=np.array([1,2,5,3])\n",
    "#add 1 to every elements\n",
    "print(\"Adding 1 to every element:\",a+1)\n",
    "#subtract 3 from each element\n",
    "print(\"Subtracting 3 from each elements:\",a-3)\n",
    "#multiplying each element by 10\n",
    "print(\"Multiplying each elements by 10:\",a*10)\n",
    "#square each element\n",
    "print(\"Squareing each element:\",a**2)\n",
    "#modify existing array\n",
    "a*=2\n",
    "print(\"Doubled each element of original array:\",a)\n",
    "#transponse of array\n",
    "a=np.array([[1,2,3],[3,4,5],[9,6,0]])\n",
    "print(\"\\n Original array:\\n\",a)\n",
    "print(\"Transponse of array\\n\",a.T)"
   ]
  },
  {
   "cell_type": "code",
   "execution_count": 9,
   "id": "0f436ed3",
   "metadata": {},
   "outputs": [
    {
     "name": "stdout",
     "output_type": "stream",
     "text": [
      "[[1 5 6]\n",
      " [4 7 2]\n",
      " [3 1 9]]\n",
      "Largest Element is: 9\n",
      "Row-wise maximum elements: [6 7 9]\n",
      "Column-wise minimum elements: [1 1 2]\n",
      "Sum of all array elements: 38\n",
      "Cumulative sum along eacch row:\n",
      " [[ 1  6 12]\n",
      " [ 4 11 13]\n",
      " [ 3  4 13]]\n"
     ]
    }
   ],
   "source": [
    "import numpy as np\n",
    "arr=np.array([[1,5,6],[4,7,2],[3,1,9]])\n",
    "print(arr)\n",
    "#maximum elements of array\n",
    "print(\"Largest Element is:\",arr.max())\n",
    "print(\"Row-wise maximum elements:\",arr.max(axis=1))\n",
    "#minimum elements of array\n",
    "print(\"Column-wise minimum elements:\",arr.min(axis=0))\n",
    "#sum of array elements\n",
    "print(\"Sum of all array elements:\",arr.sum())\n",
    "#cumulative sum along each row\n",
    "print(\"Cumulative sum along eacch row:\\n\",arr.cumsum(axis=1))"
   ]
  },
  {
   "cell_type": "code",
   "execution_count": 10,
   "id": "c64eb30a",
   "metadata": {},
   "outputs": [
    {
     "name": "stdout",
     "output_type": "stream",
     "text": [
      "Array sum:\n",
      " [[5 5]\n",
      " [5 5]]\n",
      "Array multiplication:\n",
      " [[4 6]\n",
      " [6 4]]\n",
      "Matrix multiiplication:\n",
      " [[ 8  5]\n",
      " [20 13]]\n"
     ]
    }
   ],
   "source": [
    "import numpy as np\n",
    "a=np.array(([1,2],[3,4]))\n",
    "b=np.array([[4,3],[2,1]])\n",
    "#add arrays\n",
    "print(\"Array sum:\\n\",a+b)\n",
    "#multiply array(elementwise multiplication)\n",
    "print(\"Array multiplication:\\n\",a*b)\n",
    "#matrix multiplication\n",
    "print(\"Matrix multiiplication:\\n\",a.dot(b))"
   ]
  },
  {
   "cell_type": "code",
   "execution_count": 11,
   "id": "55a8d7b2",
   "metadata": {},
   "outputs": [
    {
     "name": "stdout",
     "output_type": "stream",
     "text": [
      "Sine values of array elements: [0.0000000e+00 1.0000000e+00 1.2246468e-16]\n",
      "Exponent of array elements: [ 1.          2.71828183  7.3890561  20.08553692]\n",
      "Sqaure Root of array elements: [0.         1.         1.41421356 1.73205081]\n"
     ]
    }
   ],
   "source": [
    "import numpy as np\n",
    "#create an array of sine values\n",
    "a=np.array([0,np.pi/2,np.pi])\n",
    "print(\"Sine values of array elements:\",np.sin(a))\n",
    "#exponential values\n",
    "a=np.array([0,1,2,3])\n",
    "print(\"Exponent of array elements:\",np.exp(a))\n",
    "#square root of array values\n",
    "print(\"Sqaure Root of array elements:\",np.sqrt(a))"
   ]
  },
  {
   "cell_type": "code",
   "execution_count": 13,
   "id": "1e18bb22",
   "metadata": {},
   "outputs": [
    {
     "name": "stdout",
     "output_type": "stream",
     "text": [
      "Array elements in sorted order:\n",
      " [-1  0  1  2  3  4  4  5  6]\n",
      "Row-wise sorted array:\n",
      " [[ 1  2  4]\n",
      " [ 3  4  6]\n",
      " [-1  0  5]]\n",
      "Column wise sort by applying merge-sort:\n",
      " [[ 0 -1  2]\n",
      " [ 1  4  5]\n",
      " [ 3  4  6]]\n",
      "\n",
      " Array sorted by names:\n",
      " [(b'Ajay', 2008, 8.7) (b'Akash', 2009, 9. ) (b'Hritik', 2009, 8.5)\n",
      " (b'Pankaj', 2008, 7.8)]\n",
      "Array sorted by graduation year and then cgpa:\n",
      " [(b'Pankaj', 2008, 7.8) (b'Ajay', 2008, 8.7) (b'Hritik', 2009, 8.5)\n",
      " (b'Akash', 2009, 9. )]\n"
     ]
    }
   ],
   "source": [
    "import numpy as np\n",
    "a=np.array([[1,4,2],[3,4,6],[0,-1,5]])\n",
    "#sorted array\n",
    "print(\"Array elements in sorted order:\\n\",np.sort(a,axis=None))\n",
    "#sort array row-wise\n",
    "print(\"Row-wise sorted array:\\n\",np.sort(a,axis=1))\n",
    "#Specific sort algorithm\n",
    "print(\"Column wise sort by applying merge-sort:\\n\",np.sort(a,axis=0,kind='mergesort'))\n",
    "#Example to show sorting of structured array\n",
    "#set alias names for dtype\n",
    "dtypes=[('name','S10'),('grad_year',int),('cgpa',float)]\n",
    "#values to be put in array\n",
    "values=[('Hritik',2009,8.5),('Ajay',2008,8.7),('Pankaj',2008,7.8),('Akash',2009,9.0)]\n",
    "#Creating array\n",
    "arr=np.array(values,dtype=dtypes)\n",
    "print(\"\\n Array sorted by names:\\n\",np.sort(arr,order='name'))\n",
    "print(\"Array sorted by graduation year and then cgpa:\\n\",np.sort(arr,order=['grad_year','cgpa']))"
   ]
  },
  {
   "cell_type": "code",
   "execution_count": 3,
   "id": "1fb2d393",
   "metadata": {},
   "outputs": [
    {
     "name": "stdout",
     "output_type": "stream",
     "text": [
      "Vertical Stacking:\n",
      " [[1 2]\n",
      " [3 4]\n",
      " [5 6]\n",
      " [7 8]]\n",
      "\n",
      "Horizontal Stacking\n",
      " [[1 2 5 6]\n",
      " [3 4 7 8]]\n",
      "\n",
      "Column Stacking:\n",
      " [[1 2 5]\n",
      " [3 4 6]]\n",
      "\n",
      "Concatenating to 2nd Axis\n",
      " [[1 2 5 6]\n",
      " [3 4 7 8]]\n"
     ]
    }
   ],
   "source": [
    "import numpy as np\n",
    "a=np.array([[1,2],[3,4]])\n",
    "b=np.array([[5,6],[7,8]])\n",
    "#Vertical Stacking\n",
    "print(\"Vertical Stacking:\\n\",np.vstack((a,b)))\n",
    "#Horizontal Stacking\n",
    "print(\"\\nHorizontal Stacking\\n\",np.hstack((a,b)))\n",
    "c=[5,6]\n",
    "#Stacking columns\n",
    "print(\"\\nColumn Stacking:\\n\",np.column_stack((a,c)))\n",
    "#Concatenating method\n",
    "print(\"\\nConcatenating to 2nd Axis\\n\",np.concatenate((a,b),1))"
   ]
  },
  {
   "cell_type": "code",
   "execution_count": 5,
   "id": "67d1de5c",
   "metadata": {},
   "outputs": [
    {
     "name": "stdout",
     "output_type": "stream",
     "text": [
      "[[ 1  3  4  5  9 11]\n",
      " [ 2  4  6  8 10 12]]\n",
      "Splitting along horizontal axis into 2 parts:\n",
      " [array([[1, 3, 4],\n",
      "       [2, 4, 6]]), array([[ 5,  9, 11],\n",
      "       [ 8, 10, 12]])]\n",
      "\n",
      "Splitting along vertical axis into 2 parts:\n",
      " [array([[ 1,  3,  4,  5,  9, 11]]), array([[ 2,  4,  6,  8, 10, 12]])]\n"
     ]
    }
   ],
   "source": [
    "import numpy as np\n",
    "a=np.array([[1,3,4,5,9,11],[2,4,6,8,10,12]])\n",
    "print(a)\n",
    "#horizontal splitting\n",
    "print(\"Splitting along horizontal axis into 2 parts:\\n\",np.hsplit(a,2))\n",
    "#vertical splitting\n",
    "print(\"\\nSplitting along vertical axis into 2 parts:\\n\",np.vsplit(a,2))"
   ]
  },
  {
   "cell_type": "code",
   "execution_count": 6,
   "id": "d3d024ea",
   "metadata": {},
   "outputs": [
    {
     "name": "stdout",
     "output_type": "stream",
     "text": [
      "[2. 4. 6.]\n",
      "[2. 4. 6.]\n"
     ]
    }
   ],
   "source": [
    "import numpy as np\n",
    "a=np.array([1.0,2.0,3.0])\n",
    "#Example 1\n",
    "b=2.0\n",
    "print(a*b)\n",
    "#Example 2\n",
    "c=[2.0,2.0,2.0]\n",
    "print(a*c)"
   ]
  },
  {
   "cell_type": "code",
   "execution_count": 7,
   "id": "24647bc1",
   "metadata": {},
   "outputs": [
    {
     "name": "stdout",
     "output_type": "stream",
     "text": [
      "[[ 0.  1.  2.]\n",
      " [10. 11. 12.]\n",
      " [20. 21. 22.]\n",
      " [30. 31. 32.]]\n"
     ]
    }
   ],
   "source": [
    "import numpy as np\n",
    "a=np.array([0.0,10.0,20.0,30.0])\n",
    "b=np.array([0.0,1.0,2.0])\n",
    "print(a[:,np.newaxis]+b)"
   ]
  },
  {
   "cell_type": "code",
   "execution_count": 10,
   "id": "eed04802",
   "metadata": {},
   "outputs": [
    {
     "name": "stdout",
     "output_type": "stream",
     "text": [
      "Date is: 2017-02-12\n",
      "Year is: 2017\n",
      "\n",
      "Dates of February, 2017:\n",
      " ['2017-02-01' '2017-02-02' '2017-02-03' '2017-02-04' '2017-02-05'\n",
      " '2017-02-06' '2017-02-07' '2017-02-08' '2017-02-09' '2017-02-10'\n",
      " '2017-02-11' '2017-02-12' '2017-02-13' '2017-02-14' '2017-02-15'\n",
      " '2017-02-16' '2017-02-17' '2017-02-18' '2017-02-19' '2017-02-20'\n",
      " '2017-02-21' '2017-02-22' '2017-02-23' '2017-02-24' '2017-02-25'\n",
      " '2017-02-26' '2017-02-27' '2017-02-28']\n",
      "Today is February: True\n",
      "\n",
      " No of days: 365 days\n",
      "No of Weeks: 52 weeks\n",
      "\n",
      " Dates in Sorted order: ['2016-10-13' '2017-02-12' '2019-05-22']\n"
     ]
    }
   ],
   "source": [
    "import numpy as np\n",
    "#Creating a date\n",
    "today=np.datetime64('2017-02-12')\n",
    "print(\"Date is:\",today)\n",
    "print(\"Year is:\",np.datetime64(today,'Y'))\n",
    "#Creating array of dates in a month\n",
    "dates=np.arange('2017-02','2017-03',dtype='datetime64[D]')\n",
    "print(\"\\nDates of February, 2017:\\n\",dates)\n",
    "print(\"Today is February:\",today in dates)\n",
    "#arithematic operation on dates\n",
    "dur=np.datetime64('2017-05-22')-np.datetime64('2016-05-22')\n",
    "print(\"\\n No of days:\",dur)\n",
    "print(\"No of Weeks:\",np.timedelta64(dur,'W'))\n",
    "#sorting dates\n",
    "a=np.array(['2017-02-12','2016-10-13','2019-05-22'],dtype='datetime64')\n",
    "print(\"\\n Dates in Sorted order:\",np.sort(a))"
   ]
  },
  {
   "cell_type": "code",
   "execution_count": 13,
   "id": "1f7acb0b",
   "metadata": {},
   "outputs": [
    {
     "name": "stdout",
     "output_type": "stream",
     "text": [
      "Rank of A: 3\n",
      "\\Trace of A: 11\n",
      "\n",
      "Determinant of A: -270.00000000000006\n",
      "\n",
      "Inverse of A:\n",
      " [[ 0.2        -0.05555556  0.01111111]\n",
      " [ 0.06666667 -0.14814815  0.0962963 ]\n",
      " [-0.13333333  0.18518519  0.02962963]]\n",
      "\n",
      "Matrix A raised to power 3:\n",
      " [[236  22 110]\n",
      " [374 126 429]\n",
      " [682 594 885]]\n"
     ]
    }
   ],
   "source": [
    "import numpy as np\n",
    "A=np.array([[6,-1,1],[4,-2,5],[2,8,7]])\n",
    "print(\"Rank of A:\",np.linalg.matrix_rank(A))\n",
    "print(\"\\Trace of A:\",np.trace(A))\n",
    "print(\"\\nDeterminant of A:\",np.linalg.det(A))\n",
    "print(\"\\nInverse of A:\\n\",np.linalg.inv(A))\n",
    "print(\"\\nMatrix A raised to power 3:\\n\",np.linalg.matrix_power(A,3))"
   ]
  },
  {
   "cell_type": "code",
   "execution_count": 14,
   "id": "4b9e208e",
   "metadata": {},
   "outputs": [
    {
     "name": "stdout",
     "output_type": "stream",
     "text": [
      "Solution of Linear equation: [2. 3.]\n"
     ]
    }
   ],
   "source": [
    "import numpy as np\n",
    "#Coefficients\n",
    "a=np.array([[1,2],[3,4]])\n",
    "#Constants\n",
    "b=np.array([8,18])\n",
    "print(\"Solution of Linear equation:\",np.linalg.solve(a,b))"
   ]
  },
  {
   "cell_type": "code",
   "execution_count": 17,
   "id": "691d0635",
   "metadata": {},
   "outputs": [
    {
     "name": "stderr",
     "output_type": "stream",
     "text": [
      "<ipython-input-17-97018c1fc804>:9: FutureWarning: `rcond` parameter will change to the default of machine precision times ``max(M, N)`` where M and N are the input matrix dimensions.\n",
      "To use the future default and silence this warning we advise to pass `rcond=None`, to keep using the old, explicitly pass `rcond=-1`.\n",
      "  w=np.linalg.lstsq(A.T,y)[0]\n"
     ]
    },
    {
     "data": {
      "image/png": "[encoded data removed]",
      "text/plain": [
       "<Figure size 432x288 with 1 Axes>"
      ]
     },
     "metadata": {
      "needs_background": "light"
     },
     "output_type": "display_data"
    }
   ],
   "source": [
    "import numpy as np \n",
    "import matplotlib.pyplot as plt\n",
    "#X coordinates\n",
    "x=np.arange(0,9)\n",
    "A=np.array([x,np.ones(9)])\n",
    "#linearly generated sequence\n",
    "y=[19,20,20.5,21.5,22,23,23,25.5,24]\n",
    "#obtaining the parameters of regression line\n",
    "w=np.linalg.lstsq(A.T,y)[0]\n",
    "#plotting the line\n",
    "line=w[0]*x+w[1] #regression line\n",
    "plt.plot(x,line,'r-')\n",
    "plt.plot(x,y,'o')\n",
    "plt.show()"
   ]
  },
  {
   "cell_type": "code",
   "execution_count": 1,
   "id": "7c2600eb",
   "metadata": {},
   "outputs": [
    {
     "ename": "TypeError",
     "evalue": "can't multiply sequence by non-int of type 'list'",
     "output_type": "error",
     "traceback": [
      "\u001b[1;31m---------------------------------------------------------------------------\u001b[0m",
      "\u001b[1;31mTypeError\u001b[0m                                 Traceback (most recent call last)",
      "\u001b[1;32m<ipython-input-1-c3ea40787e65>\u001b[0m in \u001b[0;36m<module>\u001b[1;34m\u001b[0m\n\u001b[0;32m      1\u001b[0m \u001b[0mlist1\u001b[0m\u001b[1;33m=\u001b[0m\u001b[1;33m[\u001b[0m\u001b[1;36m1\u001b[0m\u001b[1;33m,\u001b[0m\u001b[1;36m2\u001b[0m\u001b[1;33m,\u001b[0m\u001b[1;36m3\u001b[0m\u001b[1;33m,\u001b[0m\u001b[1;36m4\u001b[0m\u001b[1;33m,\u001b[0m\u001b[1;36m5\u001b[0m\u001b[1;33m,\u001b[0m\u001b[1;36m6\u001b[0m\u001b[1;33m]\u001b[0m\u001b[1;33m\u001b[0m\u001b[1;33m\u001b[0m\u001b[0m\n\u001b[0;32m      2\u001b[0m \u001b[0mlist2\u001b[0m\u001b[1;33m=\u001b[0m\u001b[1;33m[\u001b[0m\u001b[1;36m10\u001b[0m\u001b[1;33m,\u001b[0m\u001b[1;36m9\u001b[0m\u001b[1;33m,\u001b[0m\u001b[1;36m8\u001b[0m\u001b[1;33m,\u001b[0m\u001b[1;36m7\u001b[0m\u001b[1;33m,\u001b[0m\u001b[1;36m6\u001b[0m\u001b[1;33m,\u001b[0m\u001b[1;36m5\u001b[0m\u001b[1;33m]\u001b[0m\u001b[1;33m\u001b[0m\u001b[1;33m\u001b[0m\u001b[0m\n\u001b[1;32m----> 3\u001b[1;33m \u001b[0mprint\u001b[0m\u001b[1;33m(\u001b[0m\u001b[0mlist1\u001b[0m\u001b[1;33m*\u001b[0m\u001b[0mlist2\u001b[0m\u001b[1;33m)\u001b[0m\u001b[1;33m\u001b[0m\u001b[1;33m\u001b[0m\u001b[0m\n\u001b[0m",
      "\u001b[1;31mTypeError\u001b[0m: can't multiply sequence by non-int of type 'list'"
     ]
    }
   ],
   "source": [
    "list1=[1,2,3,4,5,6]\n",
    "list2=[10,9,8,7,6,5]\n",
    "print(list1*list2)"
   ]
  },
  {
   "cell_type": "code",
   "execution_count": 2,
   "id": "6daf9ab7",
   "metadata": {},
   "outputs": [
    {
     "name": "stdout",
     "output_type": "stream",
     "text": [
      "[10 18 24 28 30 30]\n"
     ]
    }
   ],
   "source": [
    "import numpy as np\n",
    "list1=[1,2,3,4,5,6]\n",
    "list2=[10,9,8,7,6,5]\n",
    "a=np.array(list1)\n",
    "b=np.array(list2)\n",
    "print(a*b)"
   ]
  },
  {
   "cell_type": "code",
   "execution_count": 5,
   "id": "6d27145e",
   "metadata": {},
   "outputs": [
    {
     "name": "stdout",
     "output_type": "stream",
     "text": [
      "\n",
      " A sequential array with a negative step: \n",
      " [10  8  6  4  2]\n",
      "\n",
      " Elements at these indices are:\n",
      " [4 8 6]\n"
     ]
    }
   ],
   "source": [
    "import numpy as np\n",
    "#Create a sequence of integers from 10 to 1 with a step of -2\n",
    "a=np.arange(10,1,-2)\n",
    "print(\"\\n A sequential array with a negative step: \\n\",a)\n",
    "#Indexes are specified inside by the np.array method.\n",
    "newarr=a[np.array([3,1,2])]\n",
    "print(\"\\n Elements at these indices are:\\n\",newarr)"
   ]
  },
  {
   "cell_type": "code",
   "execution_count": 9,
   "id": "8f4c2fd3",
   "metadata": {},
   "outputs": [
    {
     "name": "stdout",
     "output_type": "stream",
     "text": [
      "\n",
      " Elements are:\n",
      " [2 4 6]\n"
     ]
    }
   ],
   "source": [
    "import numpy as np\n",
    "#numpy array with elements from 1 to 9\n",
    "x=np.array([1,2,3,4,5,6,7,8,9])\n",
    "#Index values can be negative\n",
    "arr=x[np.array([1,3,-4])]\n",
    "print(\"\\n Elements are:\\n\",arr)"
   ]
  },
  {
   "cell_type": "code",
   "execution_count": 10,
   "id": "7e676733",
   "metadata": {},
   "outputs": [
    {
     "name": "stdout",
     "output_type": "stream",
     "text": [
      "\n",
      " Array is\n",
      " [ 0  1  2  3  4  5  6  7  8  9 10 11 12 13 14 15 16 17 18 19]\n",
      "\n",
      " a[-8:17:1]= [12 13 14 15 16]\n",
      "\n",
      " a[10:]=  [10 11 12 13 14 15 16 17 18 19]\n"
     ]
    }
   ],
   "source": [
    "import numpy as np\n",
    "#arrange elements from 0 to 19\n",
    "a=np.arange(20)\n",
    "print('\\n Array is\\n',a)\n",
    "#a[start:stop:step]\n",
    "print(\"\\n a[-8:17:1]=\",a[-8:17:1])\n",
    "#The : operator means all elements till the end\n",
    "print(\"\\n a[10:]= \",a[10:])"
   ]
  },
  {
   "cell_type": "code",
   "execution_count": 12,
   "id": "f498a03a",
   "metadata": {},
   "outputs": [
    {
     "name": "stdout",
     "output_type": "stream",
     "text": [
      "[[ 2  5]\n",
      " [ 8 11]]\n"
     ]
    }
   ],
   "source": [
    "import numpy as np\n",
    "#A 3 Dimensional array\n",
    "b=np.array([[[1,2,3],[4,5,6]],[[7,8,9],[10,11,12]]])\n",
    "print(b[...,1]) #equivalent to b[:,:,1]"
   ]
  },
  {
   "cell_type": "code",
   "execution_count": 14,
   "id": "574f00bc",
   "metadata": {},
   "outputs": [
    {
     "name": "stdout",
     "output_type": "stream",
     "text": [
      "[1 3 6]\n"
     ]
    }
   ],
   "source": [
    "import numpy as np\n",
    "a=np.array([[1,2],[3,4],[5,6]])\n",
    "print(a[[0,1,2],[0,0,1]])"
   ]
  },
  {
   "cell_type": "code",
   "execution_count": 15,
   "id": "2d0dbb34",
   "metadata": {},
   "outputs": [
    {
     "name": "stdout",
     "output_type": "stream",
     "text": [
      "[ 80 100]\n"
     ]
    }
   ],
   "source": [
    "import numpy as np\n",
    "a=np.array([10,40,80,50,100])\n",
    "print(a[a>50])"
   ]
  },
  {
   "cell_type": "code",
   "execution_count": 16,
   "id": "484e5c57",
   "metadata": {},
   "outputs": [
    {
     "name": "stdout",
     "output_type": "stream",
     "text": [
      "[1600 6400]\n"
     ]
    }
   ],
   "source": [
    "import numpy as np\n",
    "a=np.array([10,40,80,50,100])\n",
    "print(a[a%40==0]**2)"
   ]
  },
  {
   "cell_type": "code",
   "execution_count": 17,
   "id": "a03a7f67",
   "metadata": {},
   "outputs": [
    {
     "name": "stdout",
     "output_type": "stream",
     "text": [
      "[[ 5  5]\n",
      " [16  4]]\n"
     ]
    }
   ],
   "source": [
    "import numpy as np\n",
    "b=np.array([[5,5],[4,5],[16,4]])\n",
    "sumrow=b.sum(-1)\n",
    "print(b[sumrow%10==0])"
   ]
  },
  {
   "cell_type": "code",
   "execution_count": null,
   "id": "d8257eb5",
   "metadata": {},
   "outputs": [],
   "source": []
  }
 ],
 "metadata": {
  "kernelspec": {
   "display_name": "Python 3",
   "language": "python",
   "name": "python3"
  },
  "language_info": {
   "codemirror_mode": {
    "name": "ipython",
    "version": 3
   },
   "file_extension": ".py",
   "mimetype": "text/x-python",
   "name": "python",
   "nbconvert_exporter": "python",
   "pygments_lexer": "ipython3",
   "version": "3.8.8"
  }
 },
 "nbformat": 4,
 "nbformat_minor": 5
}
