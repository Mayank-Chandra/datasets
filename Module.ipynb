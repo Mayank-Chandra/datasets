{
 "cells": [
  {
   "cell_type": "code",
   "execution_count": null,
   "id": "e644ec9b",
   "metadata": {},
   "outputs": [],
   "source": [
    "def checkAllArgs(*dict):\n",
    "    for x in range(len(dict)):\n",
    "        if not(isinstance(x,(int,float))):\n",
    "            return False\n",
    "    return True\n",
    "\n",
    "def Add(*sum):\n",
    "    s=0\n",
    "    for i in range(len(sum)):\n",
    "        s+=sum[i]\n",
    "    return s\n",
    "myName=\"Mayank Chandra\\n CSE I\""
   ]
  }
 ],
 "metadata": {
  "kernelspec": {
   "display_name": "Python 3",
   "language": "python",
   "name": "python3"
  },
  "language_info": {
   "codemirror_mode": {
    "name": "ipython",
    "version": 3
   },
   "file_extension": ".py",
   "mimetype": "text/x-python",
   "name": "python",
   "nbconvert_exporter": "python",
   "pygments_lexer": "ipython3",
   "version": "3.8.8"
  }
 },
 "nbformat": 4,
 "nbformat_minor": 5
}
