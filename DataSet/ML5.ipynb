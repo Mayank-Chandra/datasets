{
 "cells": [
  {
   "cell_type": "code",
   "execution_count": 4,
   "id": "67095785",
   "metadata": {},
   "outputs": [
    {
     "name": "stdout",
     "output_type": "stream",
     "text": [
      "Accuracy of KN-N Classifier on test set:  0.5333333333333333\n",
      "Predicted fruit type for [[5.5, 2.2, 10, 0.7]] is ['mandarin']\n"
     ]
    }
   ],
   "source": [
    "import pandas as pd \n",
    "import numpy as np \n",
    "import matplotlib.pyplot as plt\n",
    "from sklearn.model_selection import train_test_split\n",
    "from sklearn.neighbors import KNeighborsClassifier\n",
    "\n",
    "f1=pd.read_csv('fruit-data-with-colours-master/fruit_data_with_colours.csv')\n",
    "\n",
    "X=f1[['height','width','mass','color_score']]\n",
    "y=f1['fruit_name']\n",
    "\n",
    "X_train,X_test,y_train,y_test=train_test_split(X,y,random_state=0)\n",
    "knn=KNeighborsClassifier(n_neighbors=5)\n",
    "knn.fit(X_train,y_train)\n",
    "print(\"Accuracy of KN-N Classifier on test set: \",knn.score(X_test,y_test))\n",
    "\n",
    "ex_fruit=[[5.5,2.2,10,0.70]]\n",
    "print(\"Predicted fruit type for\",ex_fruit,\"is\",knn.predict(ex_fruit))"
   ]
  },
  {
   "cell_type": "code",
   "execution_count": null,
   "id": "20b57804",
   "metadata": {},
   "outputs": [],
   "source": []
  },
  {
   "cell_type": "code",
   "execution_count": null,
   "id": "4258ffa9",
   "metadata": {},
   "outputs": [],
   "source": []
  }
 ],
 "metadata": {
  "kernelspec": {
   "display_name": "Python 3",
   "language": "python",
   "name": "python3"
  },
  "language_info": {
   "codemirror_mode": {
    "name": "ipython",
    "version": 3
   },
   "file_extension": ".py",
   "mimetype": "text/x-python",
   "name": "python",
   "nbconvert_exporter": "python",
   "pygments_lexer": "ipython3",
   "version": "3.8.8"
  }
 },
 "nbformat": 4,
 "nbformat_minor": 5
}
