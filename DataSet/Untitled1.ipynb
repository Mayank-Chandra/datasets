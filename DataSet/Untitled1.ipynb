{
 "cells": [
  {
   "cell_type": "code",
   "execution_count": null,
   "id": "2c315c21",
   "metadata": {},
   "outputs": [],
   "source": [
    "import numpy as np\n",
    "import matplotlib.pyplot as plt\n",
    "import pandas as pd\n",
    "from sklearn.model_selection import train_test_split\n",
    "\n",
    "fruits=pd.read_csv('fruit-data-with-colours-master/fruit_data_with_colours.csv')"
   ]
  },
  {
   "cell_type": "code",
   "execution_count": null,
   "id": "d46ac782",
   "metadata": {},
   "outputs": [],
   "source": [
    "fruits"
   ]
  },
  {
   "cell_type": "code",
   "execution_count": null,
   "id": "2f1fc7b1",
   "metadata": {},
   "outputs": [],
   "source": [
    "l=dict(zip(fruits.fruit_subtype.unique(), fruits.fruit_label.unique()))\n",
    "l"
   ]
  },
  {
   "cell_type": "code",
   "execution_count": null,
   "id": "f9586d8b",
   "metadata": {},
   "outputs": [],
   "source": [
    "from matplotlib import cm\n",
    "from pandas.plotting import scatter_matrix\n",
    "X=fruits[['height','width','mass','color_score']]\n",
    "y=fruits['fruit_label']\n",
    "X_train,X_test,y_train,y_test=train_test_split(X,y,random_state=0)\n",
    "\n",
    "cmap=cm.get_cmap('gnuplot')\n",
    "scatter=scatter_matrix(X_train,c=y_train,marker='o',s=40,hist_kwds={'bins':15},figsize=(9,9),cmap=cmap)"
   ]
  },
  {
   "cell_type": "code",
   "execution_count": null,
   "id": "590bf985",
   "metadata": {},
   "outputs": [],
   "source": [
    "from mpl_toolkits.mplot3d  import Axes3D\n",
    "a1=plt.figure()\n",
    "ax=a1.add_subplot(111,projection='3d')\n",
    "ax.scatter(X_train['width'],X_train['height'],X_train['mass'],c=y_train,marker='o',s=110)\n",
    "ax.set_xlabel('width')\n",
    "ax.set_ylabel('height')\n",
    "plt.show()"
   ]
  },
  {
   "cell_type": "code",
   "execution_count": null,
   "id": "412e0b31",
   "metadata": {},
   "outputs": [],
   "source": [
    "X=fruits[['height','width','mass','color_score']]\n",
    "y=fruits['fruit_label']\n",
    "X_train,X_test,y_train,y_test=train_test_split(X,y,random_state=0)"
   ]
  },
  {
   "cell_type": "code",
   "execution_count": null,
   "id": "9762dea5",
   "metadata": {},
   "outputs": [],
   "source": []
  }
 ],
 "metadata": {
  "kernelspec": {
   "display_name": "Python 3",
   "language": "python",
   "name": "python3"
  },
  "language_info": {
   "codemirror_mode": {
    "name": "ipython",
    "version": 3
   },
   "file_extension": ".py",
   "mimetype": "text/x-python",
   "name": "python",
   "nbconvert_exporter": "python",
   "pygments_lexer": "ipython3",
   "version": "3.8.8"
  }
 },
 "nbformat": 4,
 "nbformat_minor": 5
}
