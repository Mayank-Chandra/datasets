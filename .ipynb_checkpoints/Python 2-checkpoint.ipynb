{
 "cells": [
  {
   "cell_type": "markdown",
   "id": "14e6eb58",
   "metadata": {},
   "source": [
    "# Data Structures"
   ]
  },
  {
   "cell_type": "code",
   "execution_count": 1,
   "id": "4b5c811c",
   "metadata": {},
   "outputs": [],
   "source": [
    "L=[1,2,3,4.8,\"Name\",3]\n",
    "T=(1,3,4.0,\"Name\",3)\n",
    "S={1,3,4.9,\"Name\",3}\n",
    "D={\"Name\":\"Mayank\",\"Class\":\"CSE I\"}"
   ]
  },
  {
   "cell_type": "code",
   "execution_count": 2,
   "id": "01c6ee5b",
   "metadata": {},
   "outputs": [
    {
     "name": "stdout",
     "output_type": "stream",
     "text": [
      "The Type of L is: <class 'list'>\n",
      "The Type of T is: <class 'tuple'>\n",
      "The Type of S is: <class 'set'>\n",
      "The Type of D is: <class 'dict'>\n"
     ]
    }
   ],
   "source": [
    "print('The Type of L is:',type(L))\n",
    "print('The Type of T is:',type(T))\n",
    "print('The Type of S is:',type(S))\n",
    "print('The Type of D is:',type(D))"
   ]
  },
  {
   "cell_type": "code",
   "execution_count": 3,
   "id": "2c17e259",
   "metadata": {},
   "outputs": [
    {
     "name": "stdout",
     "output_type": "stream",
     "text": [
      "2\n",
      "3\n",
      "True\n",
      "Mayank\n"
     ]
    }
   ],
   "source": [
    "print(L[1])\n",
    "print(T[1])\n",
    "print(3 in S)\n",
    "print(D[\"Name\"])"
   ]
  },
  {
   "cell_type": "code",
   "execution_count": 4,
   "id": "292d7a14",
   "metadata": {},
   "outputs": [
    {
     "data": {
      "text/plain": [
       "{1, 3, 4.9, 'Name'}"
      ]
     },
     "execution_count": 4,
     "metadata": {},
     "output_type": "execute_result"
    }
   ],
   "source": [
    "S"
   ]
  },
  {
   "cell_type": "code",
   "execution_count": 5,
   "id": "01353ac6",
   "metadata": {},
   "outputs": [
    {
     "data": {
      "text/plain": [
       "[1, 2, 3, 4.8, 'Name', 3]"
      ]
     },
     "execution_count": 5,
     "metadata": {},
     "output_type": "execute_result"
    }
   ],
   "source": [
    "L"
   ]
  },
  {
   "cell_type": "code",
   "execution_count": 6,
   "id": "893bb851",
   "metadata": {},
   "outputs": [
    {
     "data": {
      "text/plain": [
       "{'Name': 'Mayank', 'Class': 'CSE I'}"
      ]
     },
     "execution_count": 6,
     "metadata": {},
     "output_type": "execute_result"
    }
   ],
   "source": [
    "D"
   ]
  },
  {
   "cell_type": "code",
   "execution_count": 7,
   "id": "0457c67b",
   "metadata": {},
   "outputs": [
    {
     "data": {
      "text/plain": [
       "(1, 3, 4.0, 'Name', 3)"
      ]
     },
     "execution_count": 7,
     "metadata": {},
     "output_type": "execute_result"
    }
   ],
   "source": [
    "T"
   ]
  },
  {
   "cell_type": "code",
   "execution_count": 8,
   "id": "3fa56fe3",
   "metadata": {},
   "outputs": [
    {
     "data": {
      "text/plain": [
       "[2, 3]"
      ]
     },
     "execution_count": 8,
     "metadata": {},
     "output_type": "execute_result"
    }
   ],
   "source": [
    "L[1:3]"
   ]
  },
  {
   "cell_type": "code",
   "execution_count": 9,
   "id": "1a645de5",
   "metadata": {},
   "outputs": [
    {
     "data": {
      "text/plain": [
       "[3, 'Name', 4.8, 3, 2, 1]"
      ]
     },
     "execution_count": 9,
     "metadata": {},
     "output_type": "execute_result"
    }
   ],
   "source": [
    "L[::-1]"
   ]
  },
  {
   "cell_type": "code",
   "execution_count": 10,
   "id": "51735806",
   "metadata": {},
   "outputs": [
    {
     "data": {
      "text/plain": [
       "(1, 3, 4.0)"
      ]
     },
     "execution_count": 10,
     "metadata": {},
     "output_type": "execute_result"
    }
   ],
   "source": [
    "T[:3]"
   ]
  },
  {
   "cell_type": "code",
   "execution_count": 11,
   "id": "d671af70",
   "metadata": {},
   "outputs": [
    {
     "data": {
      "text/plain": [
       "(3, 'Name', 4.0, 3, 1)"
      ]
     },
     "execution_count": 11,
     "metadata": {},
     "output_type": "execute_result"
    }
   ],
   "source": [
    "T[::-1]"
   ]
  },
  {
   "cell_type": "code",
   "execution_count": 12,
   "id": "31db9776",
   "metadata": {},
   "outputs": [],
   "source": [
    "D[\"RollNO\"]=262"
   ]
  },
  {
   "cell_type": "code",
   "execution_count": 13,
   "id": "a62f72c6",
   "metadata": {},
   "outputs": [
    {
     "data": {
      "text/plain": [
       "{'Name': 'Mayank', 'Class': 'CSE I', 'RollNO': 262}"
      ]
     },
     "execution_count": 13,
     "metadata": {},
     "output_type": "execute_result"
    }
   ],
   "source": [
    "D"
   ]
  },
  {
   "cell_type": "code",
   "execution_count": 14,
   "id": "f97312fa",
   "metadata": {},
   "outputs": [],
   "source": [
    "L = L+[2,3,41252,234]"
   ]
  },
  {
   "cell_type": "code",
   "execution_count": 15,
   "id": "aa0fcda5",
   "metadata": {},
   "outputs": [
    {
     "data": {
      "text/plain": [
       "[1, 2, 3, 4.8, 'Name', 3, 2, 3, 41252, 234]"
      ]
     },
     "execution_count": 15,
     "metadata": {},
     "output_type": "execute_result"
    }
   ],
   "source": [
    "L"
   ]
  },
  {
   "cell_type": "code",
   "execution_count": 16,
   "id": "6798d27f",
   "metadata": {},
   "outputs": [],
   "source": [
    "L.append(5.68)"
   ]
  },
  {
   "cell_type": "code",
   "execution_count": 17,
   "id": "0ecd5187",
   "metadata": {},
   "outputs": [
    {
     "data": {
      "text/plain": [
       "[1, 2, 3, 4.8, 'Name', 3, 2, 3, 41252, 234, 5.68]"
      ]
     },
     "execution_count": 17,
     "metadata": {},
     "output_type": "execute_result"
    }
   ],
   "source": [
    "L"
   ]
  },
  {
   "cell_type": "code",
   "execution_count": 18,
   "id": "9cc4809b",
   "metadata": {},
   "outputs": [],
   "source": [
    "T2=(\"a\",'v',34,213.53)\n",
    "T3=T+T2"
   ]
  },
  {
   "cell_type": "code",
   "execution_count": 19,
   "id": "5ccad107",
   "metadata": {},
   "outputs": [
    {
     "data": {
      "text/plain": [
       "(1, 3, 4.0, 'Name', 3, 'a', 'v', 34, 213.53)"
      ]
     },
     "execution_count": 19,
     "metadata": {},
     "output_type": "execute_result"
    }
   ],
   "source": [
    "T3\n"
   ]
  },
  {
   "cell_type": "code",
   "execution_count": 20,
   "id": "0b9b6499",
   "metadata": {},
   "outputs": [],
   "source": [
    "S.add(45)"
   ]
  },
  {
   "cell_type": "code",
   "execution_count": 21,
   "id": "07650fa0",
   "metadata": {},
   "outputs": [
    {
     "data": {
      "text/plain": [
       "{1, 3, 4.9, 45, 'Name'}"
      ]
     },
     "execution_count": 21,
     "metadata": {},
     "output_type": "execute_result"
    }
   ],
   "source": [
    "S"
   ]
  },
  {
   "cell_type": "code",
   "execution_count": 22,
   "id": "0b16bb48",
   "metadata": {},
   "outputs": [],
   "source": [
    "S.update({23,\"GAme\",\"Naremdra MOdi\",3})"
   ]
  },
  {
   "cell_type": "code",
   "execution_count": 23,
   "id": "2758e6e8",
   "metadata": {},
   "outputs": [
    {
     "data": {
      "text/plain": [
       "{1, 23, 3, 4.9, 45, 'GAme', 'Name', 'Naremdra MOdi'}"
      ]
     },
     "execution_count": 23,
     "metadata": {},
     "output_type": "execute_result"
    }
   ],
   "source": [
    "S"
   ]
  },
  {
   "cell_type": "code",
   "execution_count": 24,
   "id": "3c5a404c",
   "metadata": {},
   "outputs": [
    {
     "data": {
      "text/plain": [
       "{'Name': 'Mayank', 'Class': 'CSE I', 'RollNO': 262}"
      ]
     },
     "execution_count": 24,
     "metadata": {},
     "output_type": "execute_result"
    }
   ],
   "source": [
    "D"
   ]
  },
  {
   "cell_type": "code",
   "execution_count": 25,
   "id": "05526d5f",
   "metadata": {},
   "outputs": [],
   "source": [
    "D['Year']=3"
   ]
  },
  {
   "cell_type": "code",
   "execution_count": 26,
   "id": "f52f3a28",
   "metadata": {},
   "outputs": [
    {
     "data": {
      "text/plain": [
       "{'Name': 'Mayank', 'Class': 'CSE I', 'RollNO': 262, 'Year': 3}"
      ]
     },
     "execution_count": 26,
     "metadata": {},
     "output_type": "execute_result"
    }
   ],
   "source": [
    "D"
   ]
  },
  {
   "cell_type": "code",
   "execution_count": 27,
   "id": "32e8e5ce",
   "metadata": {},
   "outputs": [],
   "source": [
    "D2={'y':323,2:\"Harsh\",3:'RISHI'}"
   ]
  },
  {
   "cell_type": "code",
   "execution_count": 28,
   "id": "c98cf249",
   "metadata": {},
   "outputs": [
    {
     "data": {
      "text/plain": [
       "[1, 2, 3, 4.8, 'Name', 3, 2, 3, 41252, 234, 5.68]"
      ]
     },
     "execution_count": 28,
     "metadata": {},
     "output_type": "execute_result"
    }
   ],
   "source": [
    "L"
   ]
  },
  {
   "cell_type": "code",
   "execution_count": 29,
   "id": "3e5b9dde",
   "metadata": {},
   "outputs": [],
   "source": [
    "del L[3]"
   ]
  },
  {
   "cell_type": "code",
   "execution_count": 30,
   "id": "eb5e1113",
   "metadata": {},
   "outputs": [
    {
     "data": {
      "text/plain": [
       "[1, 2, 3, 'Name', 3, 2, 3, 41252, 234, 5.68]"
      ]
     },
     "execution_count": 30,
     "metadata": {},
     "output_type": "execute_result"
    }
   ],
   "source": [
    "L"
   ]
  },
  {
   "cell_type": "code",
   "execution_count": 31,
   "id": "262dfd23",
   "metadata": {},
   "outputs": [
    {
     "data": {
      "text/plain": [
       "{1, 23, 3, 4.9, 45, 'GAme', 'Name', 'Naremdra MOdi'}"
      ]
     },
     "execution_count": 31,
     "metadata": {},
     "output_type": "execute_result"
    }
   ],
   "source": [
    "S"
   ]
  },
  {
   "cell_type": "code",
   "execution_count": 32,
   "id": "488f5c12",
   "metadata": {},
   "outputs": [],
   "source": [
    "S.remove(\"GAme\")"
   ]
  },
  {
   "cell_type": "code",
   "execution_count": 33,
   "id": "8ddc2f38",
   "metadata": {},
   "outputs": [
    {
     "data": {
      "text/plain": [
       "{1, 23, 3, 4.9, 45, 'Name', 'Naremdra MOdi'}"
      ]
     },
     "execution_count": 33,
     "metadata": {},
     "output_type": "execute_result"
    }
   ],
   "source": [
    "S"
   ]
  },
  {
   "cell_type": "code",
   "execution_count": 34,
   "id": "95c11f77",
   "metadata": {},
   "outputs": [],
   "source": [
    "del D2['y']"
   ]
  },
  {
   "cell_type": "code",
   "execution_count": 35,
   "id": "b05d56c8",
   "metadata": {},
   "outputs": [
    {
     "data": {
      "text/plain": [
       "{2: 'Harsh', 3: 'RISHI'}"
      ]
     },
     "execution_count": 35,
     "metadata": {},
     "output_type": "execute_result"
    }
   ],
   "source": [
    "D2"
   ]
  },
  {
   "cell_type": "code",
   "execution_count": 36,
   "id": "315550d9",
   "metadata": {},
   "outputs": [],
   "source": [
    "D.update(D2)"
   ]
  },
  {
   "cell_type": "code",
   "execution_count": 37,
   "id": "b0139c9a",
   "metadata": {},
   "outputs": [
    {
     "data": {
      "text/plain": [
       "{'Name': 'Mayank',\n",
       " 'Class': 'CSE I',\n",
       " 'RollNO': 262,\n",
       " 'Year': 3,\n",
       " 2: 'Harsh',\n",
       " 3: 'RISHI'}"
      ]
     },
     "execution_count": 37,
     "metadata": {},
     "output_type": "execute_result"
    }
   ],
   "source": [
    "D"
   ]
  },
  {
   "cell_type": "code",
   "execution_count": 38,
   "id": "3ae1eb89",
   "metadata": {},
   "outputs": [],
   "source": [
    "L2=L"
   ]
  },
  {
   "cell_type": "code",
   "execution_count": 39,
   "id": "ec107081",
   "metadata": {},
   "outputs": [
    {
     "data": {
      "text/plain": [
       "[1, 2, 3, 'Name', 3, 2, 3, 41252, 234, 5.68]"
      ]
     },
     "execution_count": 39,
     "metadata": {},
     "output_type": "execute_result"
    }
   ],
   "source": [
    "L2"
   ]
  },
  {
   "cell_type": "code",
   "execution_count": 40,
   "id": "5c86e049",
   "metadata": {},
   "outputs": [],
   "source": [
    "L2[2]='Three'"
   ]
  },
  {
   "cell_type": "code",
   "execution_count": 41,
   "id": "e19d0865",
   "metadata": {},
   "outputs": [
    {
     "data": {
      "text/plain": [
       "[1, 2, 'Three', 'Name', 3, 2, 3, 41252, 234, 5.68]"
      ]
     },
     "execution_count": 41,
     "metadata": {},
     "output_type": "execute_result"
    }
   ],
   "source": [
    "L2"
   ]
  },
  {
   "cell_type": "code",
   "execution_count": 42,
   "id": "380eb022",
   "metadata": {},
   "outputs": [
    {
     "data": {
      "text/plain": [
       "[1, 2, 'Three', 'Name', 3, 2, 3, 41252, 234, 5.68]"
      ]
     },
     "execution_count": 42,
     "metadata": {},
     "output_type": "execute_result"
    }
   ],
   "source": [
    "L"
   ]
  },
  {
   "cell_type": "code",
   "execution_count": 43,
   "id": "3a9d63a3",
   "metadata": {},
   "outputs": [],
   "source": [
    "L2=L.copy()"
   ]
  },
  {
   "cell_type": "code",
   "execution_count": 44,
   "id": "235ad860",
   "metadata": {},
   "outputs": [],
   "source": [
    "L2[2]=3"
   ]
  },
  {
   "cell_type": "code",
   "execution_count": 45,
   "id": "745b76ea",
   "metadata": {},
   "outputs": [
    {
     "data": {
      "text/plain": [
       "[1, 2, 3, 'Name', 3, 2, 3, 41252, 234, 5.68]"
      ]
     },
     "execution_count": 45,
     "metadata": {},
     "output_type": "execute_result"
    }
   ],
   "source": [
    "L2"
   ]
  },
  {
   "cell_type": "code",
   "execution_count": 46,
   "id": "4782b133",
   "metadata": {},
   "outputs": [
    {
     "data": {
      "text/plain": [
       "[1, 2, 'Three', 'Name', 3, 2, 3, 41252, 234, 5.68]"
      ]
     },
     "execution_count": 46,
     "metadata": {},
     "output_type": "execute_result"
    }
   ],
   "source": [
    "L"
   ]
  },
  {
   "cell_type": "code",
   "execution_count": 47,
   "id": "4bcb372e",
   "metadata": {},
   "outputs": [],
   "source": [
    "L3=L[0:5]"
   ]
  },
  {
   "cell_type": "code",
   "execution_count": 48,
   "id": "eebd66a6",
   "metadata": {},
   "outputs": [
    {
     "data": {
      "text/plain": [
       "[1, 2, 'Three', 'Name', 3]"
      ]
     },
     "execution_count": 48,
     "metadata": {},
     "output_type": "execute_result"
    }
   ],
   "source": [
    "L3"
   ]
  },
  {
   "cell_type": "code",
   "execution_count": 49,
   "id": "c7f08b94",
   "metadata": {},
   "outputs": [],
   "source": [
    "L3[2]=3.532\n"
   ]
  },
  {
   "cell_type": "code",
   "execution_count": 50,
   "id": "cc0c6a67",
   "metadata": {},
   "outputs": [
    {
     "data": {
      "text/plain": [
       "[1, 2, 3.532, 'Name', 3]"
      ]
     },
     "execution_count": 50,
     "metadata": {},
     "output_type": "execute_result"
    }
   ],
   "source": [
    "L3"
   ]
  },
  {
   "cell_type": "code",
   "execution_count": 51,
   "id": "e4a8b333",
   "metadata": {},
   "outputs": [
    {
     "data": {
      "text/plain": [
       "[1, 2, 'Three', 'Name', 3, 2, 3, 41252, 234, 5.68]"
      ]
     },
     "execution_count": 51,
     "metadata": {},
     "output_type": "execute_result"
    }
   ],
   "source": [
    "L"
   ]
  },
  {
   "cell_type": "code",
   "execution_count": 52,
   "id": "af47f6eb",
   "metadata": {},
   "outputs": [
    {
     "name": "stdout",
     "output_type": "stream",
     "text": [
      "Help on built-in function append:\n",
      "\n",
      "append(object, /) method of builtins.list instance\n",
      "    Append object to the end of the list.\n",
      "\n"
     ]
    }
   ],
   "source": [
    "help(L.append)"
   ]
  },
  {
   "cell_type": "code",
   "execution_count": 53,
   "id": "d2fc2dab",
   "metadata": {},
   "outputs": [],
   "source": [
    "L.clear?"
   ]
  },
  {
   "cell_type": "code",
   "execution_count": 55,
   "id": "45e187bd",
   "metadata": {},
   "outputs": [],
   "source": [
    "L.pop?"
   ]
  },
  {
   "cell_type": "code",
   "execution_count": 56,
   "id": "243e9d27",
   "metadata": {},
   "outputs": [
    {
     "data": {
      "text/plain": [
       "<function list.reverse()>"
      ]
     },
     "execution_count": 56,
     "metadata": {},
     "output_type": "execute_result"
    }
   ],
   "source": [
    "L.reverse"
   ]
  },
  {
   "cell_type": "code",
   "execution_count": 57,
   "id": "98f54a48",
   "metadata": {},
   "outputs": [
    {
     "data": {
      "text/plain": [
       "[1, 2, 'Three', 'Name', 3, 2, 3, 41252, 234, 5.68]"
      ]
     },
     "execution_count": 57,
     "metadata": {},
     "output_type": "execute_result"
    }
   ],
   "source": [
    "L"
   ]
  },
  {
   "cell_type": "code",
   "execution_count": 58,
   "id": "0f2ebd84",
   "metadata": {},
   "outputs": [
    {
     "data": {
      "text/plain": [
       "[5.68, 234, 41252, 3, 2, 3, 'Name', 'Three', 2, 1]"
      ]
     },
     "execution_count": 58,
     "metadata": {},
     "output_type": "execute_result"
    }
   ],
   "source": [
    "L[::-1]"
   ]
  },
  {
   "cell_type": "code",
   "execution_count": 60,
   "id": "ebd1d582",
   "metadata": {},
   "outputs": [
    {
     "data": {
      "text/plain": [
       "dict_items([('Name', 'Mayank'), ('Class', 'CSE I'), ('RollNO', 262), ('Year', 3), (2, 'Harsh'), (3, 'RISHI')])"
      ]
     },
     "execution_count": 60,
     "metadata": {},
     "output_type": "execute_result"
    }
   ],
   "source": [
    "D.items()"
   ]
  },
  {
   "cell_type": "code",
   "execution_count": 61,
   "id": "773a039c",
   "metadata": {},
   "outputs": [
    {
     "data": {
      "text/plain": [
       "[1, 2, 'Three', 'Name', 3, 2, 3, 41252, 234, 5.68]"
      ]
     },
     "execution_count": 61,
     "metadata": {},
     "output_type": "execute_result"
    }
   ],
   "source": [
    "L"
   ]
  },
  {
   "cell_type": "code",
   "execution_count": 62,
   "id": "cab8f75d",
   "metadata": {},
   "outputs": [
    {
     "data": {
      "text/plain": [
       "(1, 3, 4.0, 'Name', 3)"
      ]
     },
     "execution_count": 62,
     "metadata": {},
     "output_type": "execute_result"
    }
   ],
   "source": [
    "T"
   ]
  },
  {
   "cell_type": "code",
   "execution_count": 63,
   "id": "685a6899",
   "metadata": {},
   "outputs": [
    {
     "data": {
      "text/plain": [
       "{1, 23, 3, 4.9, 45, 'Name', 'Naremdra MOdi'}"
      ]
     },
     "execution_count": 63,
     "metadata": {},
     "output_type": "execute_result"
    }
   ],
   "source": [
    "S"
   ]
  },
  {
   "cell_type": "code",
   "execution_count": 64,
   "id": "8dd11c56",
   "metadata": {},
   "outputs": [
    {
     "data": {
      "text/plain": [
       "{'Name': 'Mayank',\n",
       " 'Class': 'CSE I',\n",
       " 'RollNO': 262,\n",
       " 'Year': 3,\n",
       " 2: 'Harsh',\n",
       " 3: 'RISHI'}"
      ]
     },
     "execution_count": 64,
     "metadata": {},
     "output_type": "execute_result"
    }
   ],
   "source": [
    "D"
   ]
  },
  {
   "cell_type": "code",
   "execution_count": 65,
   "id": "e45de23a",
   "metadata": {},
   "outputs": [],
   "source": [
    "D1={'A':L,'B':T,'C':S,'D':D}"
   ]
  },
  {
   "cell_type": "code",
   "execution_count": 66,
   "id": "207cf3ad",
   "metadata": {},
   "outputs": [
    {
     "data": {
      "text/plain": [
       "{'A': [1, 2, 'Three', 'Name', 3, 2, 3, 41252, 234, 5.68],\n",
       " 'B': (1, 3, 4.0, 'Name', 3),\n",
       " 'C': {1, 23, 3, 4.9, 45, 'Name', 'Naremdra MOdi'},\n",
       " 'D': {'Name': 'Mayank',\n",
       "  'Class': 'CSE I',\n",
       "  'RollNO': 262,\n",
       "  'Year': 3,\n",
       "  2: 'Harsh',\n",
       "  3: 'RISHI'}}"
      ]
     },
     "execution_count": 66,
     "metadata": {},
     "output_type": "execute_result"
    }
   ],
   "source": [
    "D1"
   ]
  },
  {
   "cell_type": "code",
   "execution_count": 67,
   "id": "d359246d",
   "metadata": {},
   "outputs": [
    {
     "data": {
      "text/plain": [
       "[1, 2, 'Three', 'Name', 3, 2, 3, 41252, 234, 5.68]"
      ]
     },
     "execution_count": 67,
     "metadata": {},
     "output_type": "execute_result"
    }
   ],
   "source": [
    "D1['A']"
   ]
  },
  {
   "cell_type": "code",
   "execution_count": 68,
   "id": "1071f480",
   "metadata": {},
   "outputs": [
    {
     "data": {
      "text/plain": [
       "'Name'"
      ]
     },
     "execution_count": 68,
     "metadata": {},
     "output_type": "execute_result"
    }
   ],
   "source": [
    "D1['A'][3]"
   ]
  },
  {
   "cell_type": "code",
   "execution_count": 70,
   "id": "43da820f",
   "metadata": {},
   "outputs": [],
   "source": [
    "K=D1['D']"
   ]
  },
  {
   "cell_type": "code",
   "execution_count": 71,
   "id": "c9e98a39",
   "metadata": {},
   "outputs": [
    {
     "name": "stdout",
     "output_type": "stream",
     "text": [
      "Name Mayank\n",
      "Class CSE I\n",
      "RollNO 262\n",
      "Year 3\n",
      "2 Harsh\n",
      "3 RISHI\n"
     ]
    }
   ],
   "source": [
    "for x in K:\n",
    "    print(x,K[x])"
   ]
  },
  {
   "cell_type": "code",
   "execution_count": 72,
   "id": "acbf761f",
   "metadata": {},
   "outputs": [],
   "source": [
    "L3=[L,T,D,23,45]"
   ]
  },
  {
   "cell_type": "code",
   "execution_count": 73,
   "id": "626ed134",
   "metadata": {},
   "outputs": [
    {
     "data": {
      "text/plain": [
       "[[1, 2, 'Three', 'Name', 3, 2, 3, 41252, 234, 5.68],\n",
       " (1, 3, 4.0, 'Name', 3),\n",
       " {'Name': 'Mayank',\n",
       "  'Class': 'CSE I',\n",
       "  'RollNO': 262,\n",
       "  'Year': 3,\n",
       "  2: 'Harsh',\n",
       "  3: 'RISHI'},\n",
       " 23,\n",
       " 45]"
      ]
     },
     "execution_count": 73,
     "metadata": {},
     "output_type": "execute_result"
    }
   ],
   "source": [
    "L3"
   ]
  },
  {
   "cell_type": "code",
   "execution_count": 75,
   "id": "160ae1ad",
   "metadata": {},
   "outputs": [
    {
     "data": {
      "text/plain": [
       "dict"
      ]
     },
     "execution_count": 75,
     "metadata": {},
     "output_type": "execute_result"
    }
   ],
   "source": [
    "type(L3[2])"
   ]
  },
  {
   "cell_type": "code",
   "execution_count": 76,
   "id": "6f06fc0c",
   "metadata": {},
   "outputs": [],
   "source": [
    "L3=[x**2 for x in range(10)]"
   ]
  },
  {
   "cell_type": "code",
   "execution_count": 77,
   "id": "b01f99b9",
   "metadata": {},
   "outputs": [
    {
     "data": {
      "text/plain": [
       "[0, 1, 4, 9, 16, 25, 36, 49, 64, 81]"
      ]
     },
     "execution_count": 77,
     "metadata": {},
     "output_type": "execute_result"
    }
   ],
   "source": [
    "L3"
   ]
  },
  {
   "cell_type": "code",
   "execution_count": 78,
   "id": "609cc092",
   "metadata": {},
   "outputs": [],
   "source": [
    "S={x**3 for x in range(2,20,3)}"
   ]
  },
  {
   "cell_type": "code",
   "execution_count": 79,
   "id": "d59a76ca",
   "metadata": {},
   "outputs": [
    {
     "data": {
      "text/plain": [
       "{8, 125, 512, 1331, 2744, 4913}"
      ]
     },
     "execution_count": 79,
     "metadata": {},
     "output_type": "execute_result"
    }
   ],
   "source": [
    "S"
   ]
  },
  {
   "cell_type": "code",
   "execution_count": 82,
   "id": "5a6d5a83",
   "metadata": {},
   "outputs": [],
   "source": [
    "def getDataFromUser():\n",
    "    D={}\n",
    "    while True:\n",
    "        studentID=input(\"Enter Student ID: \")\n",
    "        markslist=input(\"Enter the marks by Comma seperated values: \")\n",
    "        morestudent=input(\"Enter no to quit insertion: \")\n",
    "        if studentID in D:\n",
    "            print(\"Student ID is already inserted: \")\n",
    "        else:\n",
    "            D[studentID]=markslist.split(\",\")\n",
    "        if morestudent.lower()=='no':\n",
    "            return D\n",
    "        \n",
    "            "
   ]
  },
  {
   "cell_type": "code",
   "execution_count": 84,
   "id": "e5d83d50",
   "metadata": {},
   "outputs": [
    {
     "name": "stdout",
     "output_type": "stream",
     "text": [
      "Enter Student ID: 12\n",
      "Enter the marks by Comma seperated values: 56,87,65\n",
      "Enter no to quit insertion: htfhg \n",
      "Enter Student ID: 45\n",
      "Enter the marks by Comma seperated values: 34,76,89,90,56\n",
      "Enter no to quit insertion: kuyiuk\n",
      "Enter Student ID: 12\n",
      "Enter the marks by Comma seperated values: 56,87,98\n",
      "Enter no to quit insertion: jhi\n",
      "Student ID is already inserted: \n",
      "Enter Student ID: 26\n",
      "Enter the marks by Comma seperated values: 76,76,98\n",
      "Enter no to quit insertion: no\n"
     ]
    }
   ],
   "source": [
    "studentData=getDataFromUser()"
   ]
  },
  {
   "cell_type": "code",
   "execution_count": null,
   "id": "27909b34",
   "metadata": {},
   "outputs": [],
   "source": []
  }
 ],
 "metadata": {
  "kernelspec": {
   "display_name": "Python 3",
   "language": "python",
   "name": "python3"
  },
  "language_info": {
   "codemirror_mode": {
    "name": "ipython",
    "version": 3
   },
   "file_extension": ".py",
   "mimetype": "text/x-python",
   "name": "python",
   "nbconvert_exporter": "python",
   "pygments_lexer": "ipython3",
   "version": "3.8.8"
  }
 },
 "nbformat": 4,
 "nbformat_minor": 5
}
