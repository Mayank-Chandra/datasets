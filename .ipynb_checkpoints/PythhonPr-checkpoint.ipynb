{
 "cells": [
  {
   "cell_type": "markdown",
   "id": "ba67b1af",
   "metadata": {},
   "source": [
    "Python Codes\n"
   ]
  },
  {
   "cell_type": "markdown",
   "id": "77c71d55",
   "metadata": {},
   "source": [
    "First Program in Python\n"
   ]
  },
  {
   "cell_type": "code",
   "execution_count": null,
   "id": "6494c6f7",
   "metadata": {},
   "outputs": [],
   "source": [
    "print(\"Hello World\")"
   ]
  },
  {
   "cell_type": "markdown",
   "id": "ae3991f7",
   "metadata": {},
   "source": [
    "# Variables\n"
   ]
  },
  {
   "cell_type": "code",
   "execution_count": null,
   "id": "d98c6e5d",
   "metadata": {},
   "outputs": [],
   "source": [
    "x = 3"
   ]
  },
  {
   "cell_type": "code",
   "execution_count": null,
   "id": "61f0b761",
   "metadata": {},
   "outputs": [],
   "source": [
    "print(x)"
   ]
  },
  {
   "cell_type": "code",
   "execution_count": null,
   "id": "52e740e3",
   "metadata": {},
   "outputs": [],
   "source": [
    "%whos"
   ]
  },
  {
   "cell_type": "code",
   "execution_count": null,
   "id": "b91cc7b3",
   "metadata": {},
   "outputs": [],
   "source": [
    "print(type(x))"
   ]
  },
  {
   "cell_type": "code",
   "execution_count": null,
   "id": "2300e657",
   "metadata": {},
   "outputs": [],
   "source": [
    "x=5.7"
   ]
  },
  {
   "cell_type": "code",
   "execution_count": null,
   "id": "523cc685",
   "metadata": {},
   "outputs": [],
   "source": [
    "print(type(x))"
   ]
  },
  {
   "cell_type": "code",
   "execution_count": null,
   "id": "da546c2c",
   "metadata": {},
   "outputs": [],
   "source": [
    "%whos"
   ]
  },
  {
   "cell_type": "code",
   "execution_count": null,
   "id": "9c085816",
   "metadata": {},
   "outputs": [],
   "source": [
    "abcd = '556.32'"
   ]
  },
  {
   "cell_type": "code",
   "execution_count": null,
   "id": "12345441",
   "metadata": {},
   "outputs": [],
   "source": [
    "%whos"
   ]
  },
  {
   "cell_type": "code",
   "execution_count": null,
   "id": "2f08e52a",
   "metadata": {},
   "outputs": [],
   "source": [
    "abcd = 556.65"
   ]
  },
  {
   "cell_type": "code",
   "execution_count": null,
   "id": "a9d28bbd",
   "metadata": {},
   "outputs": [],
   "source": [
    "a,b,c,d,f=5,3,2.34,-1,3.02"
   ]
  },
  {
   "cell_type": "code",
   "execution_count": null,
   "id": "8b3af6f4",
   "metadata": {},
   "outputs": [],
   "source": [
    "%whos"
   ]
  },
  {
   "cell_type": "code",
   "execution_count": null,
   "id": "99c51c0e",
   "metadata": {},
   "outputs": [],
   "source": [
    "del abcd"
   ]
  },
  {
   "cell_type": "code",
   "execution_count": null,
   "id": "fec8343a",
   "metadata": {},
   "outputs": [],
   "source": [
    "%whos"
   ]
  },
  {
   "cell_type": "markdown",
   "id": "ca6ee96c",
   "metadata": {},
   "source": [
    "$ b+c=a"
   ]
  },
  {
   "cell_type": "code",
   "execution_count": null,
   "id": "8aafaf80",
   "metadata": {},
   "outputs": [],
   "source": [
    "a=3+5j"
   ]
  },
  {
   "cell_type": "code",
   "execution_count": null,
   "id": "6310a580",
   "metadata": {},
   "outputs": [],
   "source": [
    "print(type(a))"
   ]
  },
  {
   "cell_type": "code",
   "execution_count": null,
   "id": "8986ed15",
   "metadata": {},
   "outputs": [],
   "source": [
    "s='HEllo how are you'"
   ]
  },
  {
   "cell_type": "code",
   "execution_count": null,
   "id": "0ef84211",
   "metadata": {},
   "outputs": [],
   "source": [
    "print(type(s))"
   ]
  },
  {
   "cell_type": "code",
   "execution_count": null,
   "id": "bf60ce70",
   "metadata": {},
   "outputs": [],
   "source": [
    "%whos"
   ]
  },
  {
   "cell_type": "code",
   "execution_count": null,
   "id": "b1687240",
   "metadata": {},
   "outputs": [],
   "source": [
    "b%c"
   ]
  },
  {
   "cell_type": "code",
   "execution_count": null,
   "id": "635330c6",
   "metadata": {},
   "outputs": [],
   "source": [
    "c%x"
   ]
  },
  {
   "cell_type": "code",
   "execution_count": null,
   "id": "df61a498",
   "metadata": {},
   "outputs": [],
   "source": [
    "2.34*2"
   ]
  },
  {
   "cell_type": "code",
   "execution_count": null,
   "id": "b8777df4",
   "metadata": {},
   "outputs": [],
   "source": [
    "10/3"
   ]
  },
  {
   "cell_type": "code",
   "execution_count": null,
   "id": "702cf94b",
   "metadata": {},
   "outputs": [],
   "source": [
    "10//3"
   ]
  },
  {
   "cell_type": "code",
   "execution_count": null,
   "id": "1ee1d989",
   "metadata": {},
   "outputs": [],
   "source": [
    "2**4"
   ]
  },
  {
   "cell_type": "code",
   "execution_count": null,
   "id": "e16ff447",
   "metadata": {},
   "outputs": [],
   "source": [
    "a1='Hell'\n",
    "a3='O'\n",
    "print(a1+a3)"
   ]
  },
  {
   "cell_type": "markdown",
   "id": "ae8801b6",
   "metadata": {},
   "source": [
    "# Operators"
   ]
  },
  {
   "cell_type": "code",
   "execution_count": null,
   "id": "cc450e69",
   "metadata": {},
   "outputs": [],
   "source": [
    "%whos"
   ]
  },
  {
   "cell_type": "code",
   "execution_count": null,
   "id": "4b78c44b",
   "metadata": {},
   "outputs": [],
   "source": [
    "sum_ab= a+b"
   ]
  },
  {
   "cell_type": "code",
   "execution_count": null,
   "id": "3b72a4c2",
   "metadata": {},
   "outputs": [],
   "source": [
    "print(sum_ab)"
   ]
  },
  {
   "cell_type": "code",
   "execution_count": null,
   "id": "608fd54e",
   "metadata": {},
   "outputs": [],
   "source": [
    "print(type(sum_ab))"
   ]
  },
  {
   "cell_type": "code",
   "execution_count": null,
   "id": "8c8b660f",
   "metadata": {},
   "outputs": [],
   "source": [
    "type(a+d)"
   ]
  },
  {
   "cell_type": "code",
   "execution_count": null,
   "id": "8f80fcad",
   "metadata": {},
   "outputs": [],
   "source": [
    "v=((b+d)**3)/4\n"
   ]
  },
  {
   "cell_type": "code",
   "execution_count": null,
   "id": "e36f428a",
   "metadata": {},
   "outputs": [],
   "source": [
    "print(v)"
   ]
  },
  {
   "cell_type": "code",
   "execution_count": null,
   "id": "8d4c99ad",
   "metadata": {},
   "outputs": [],
   "source": [
    "10//3"
   ]
  },
  {
   "cell_type": "code",
   "execution_count": null,
   "id": "78dd5610",
   "metadata": {},
   "outputs": [],
   "source": [
    "10/3"
   ]
  },
  {
   "cell_type": "code",
   "execution_count": null,
   "id": "f1de93b5",
   "metadata": {},
   "outputs": [],
   "source": [
    "_"
   ]
  },
  {
   "cell_type": "code",
   "execution_count": null,
   "id": "8f164565",
   "metadata": {},
   "outputs": [],
   "source": [
    "x!=3"
   ]
  },
  {
   "cell_type": "code",
   "execution_count": null,
   "id": "44d3d266",
   "metadata": {},
   "outputs": [],
   "source": [
    "y=3"
   ]
  },
  {
   "cell_type": "code",
   "execution_count": null,
   "id": "703b4389",
   "metadata": {},
   "outputs": [],
   "source": [
    "print(y)"
   ]
  },
  {
   "cell_type": "code",
   "execution_count": null,
   "id": "af86e0af",
   "metadata": {},
   "outputs": [],
   "source": [
    "@y=3"
   ]
  },
  {
   "cell_type": "code",
   "execution_count": null,
   "id": "4c32b153",
   "metadata": {},
   "outputs": [],
   "source": [
    "*t=4"
   ]
  },
  {
   "cell_type": "code",
   "execution_count": null,
   "id": "893a6ca7",
   "metadata": {},
   "outputs": [],
   "source": [
    "_e=4"
   ]
  },
  {
   "cell_type": "code",
   "execution_count": null,
   "id": "4d73c0ea",
   "metadata": {},
   "outputs": [],
   "source": [
    "print(_e)"
   ]
  },
  {
   "cell_type": "code",
   "execution_count": null,
   "id": "8cd8e420",
   "metadata": {},
   "outputs": [],
   "source": [
    "eEE=5"
   ]
  },
  {
   "cell_type": "code",
   "execution_count": null,
   "id": "804815e1",
   "metadata": {},
   "outputs": [],
   "source": [
    "print(eEE)"
   ]
  },
  {
   "cell_type": "code",
   "execution_count": null,
   "id": "76b4b84d",
   "metadata": {},
   "outputs": [],
   "source": [
    "%whos"
   ]
  },
  {
   "cell_type": "code",
   "execution_count": null,
   "id": "12b55294",
   "metadata": {},
   "outputs": [],
   "source": [
    "E=66"
   ]
  },
  {
   "cell_type": "code",
   "execution_count": null,
   "id": "d57e2900",
   "metadata": {},
   "outputs": [],
   "source": [
    "%whos"
   ]
  },
  {
   "cell_type": "code",
   "execution_count": null,
   "id": "84ae9a52",
   "metadata": {},
   "outputs": [],
   "source": [
    "a=True\n",
    "b=True\n",
    "c=False\n"
   ]
  },
  {
   "cell_type": "code",
   "execution_count": null,
   "id": "087ec0a8",
   "metadata": {},
   "outputs": [],
   "source": [
    "%whos\n"
   ]
  },
  {
   "cell_type": "code",
   "execution_count": null,
   "id": "654b2b6c",
   "metadata": {},
   "outputs": [],
   "source": [
    "print(a and b)\n",
    "print(a and c)\n",
    "print(c and a)"
   ]
  },
  {
   "cell_type": "code",
   "execution_count": null,
   "id": "d30de990",
   "metadata": {},
   "outputs": [],
   "source": [
    "print(a or b)\n",
    "print( a or c)\n",
    "print(c or a)"
   ]
  },
  {
   "cell_type": "code",
   "execution_count": null,
   "id": "139e33ff",
   "metadata": {},
   "outputs": [],
   "source": [
    "not(a)"
   ]
  },
  {
   "cell_type": "code",
   "execution_count": null,
   "id": "21f3dd91",
   "metadata": {},
   "outputs": [],
   "source": [
    "not(b)"
   ]
  },
  {
   "cell_type": "code",
   "execution_count": null,
   "id": "36021a6c",
   "metadata": {},
   "outputs": [],
   "source": [
    "not(c)"
   ]
  },
  {
   "cell_type": "code",
   "execution_count": null,
   "id": "5a5bf4ac",
   "metadata": {},
   "outputs": [],
   "source": [
    "d=a or b"
   ]
  },
  {
   "cell_type": "code",
   "execution_count": null,
   "id": "19b0f090",
   "metadata": {},
   "outputs": [],
   "source": [
    "print(d)"
   ]
  },
  {
   "cell_type": "code",
   "execution_count": null,
   "id": "96e43436",
   "metadata": {},
   "outputs": [],
   "source": [
    "not(d)"
   ]
  },
  {
   "cell_type": "markdown",
   "id": "da6d9161",
   "metadata": {},
   "source": [
    "# Comparision"
   ]
  },
  {
   "cell_type": "code",
   "execution_count": null,
   "id": "67927655",
   "metadata": {},
   "outputs": [],
   "source": [
    "print(2<3)"
   ]
  },
  {
   "cell_type": "code",
   "execution_count": null,
   "id": "5cbd6375",
   "metadata": {},
   "outputs": [],
   "source": [
    "c=2<4\n",
    "type(c)\n",
    "print(c)"
   ]
  },
  {
   "cell_type": "code",
   "execution_count": null,
   "id": "e2a204b4",
   "metadata": {},
   "outputs": [],
   "source": [
    "3==4"
   ]
  },
  {
   "cell_type": "code",
   "execution_count": null,
   "id": "d45bd8e9",
   "metadata": {},
   "outputs": [],
   "source": [
    "d=3==4\n",
    "print(d)"
   ]
  },
  {
   "cell_type": "code",
   "execution_count": null,
   "id": "c52861ae",
   "metadata": {},
   "outputs": [],
   "source": [
    "3==3.0"
   ]
  },
  {
   "cell_type": "code",
   "execution_count": null,
   "id": "caf74a53",
   "metadata": {},
   "outputs": [],
   "source": [
    "x = 4\n",
    "y = 9\n",
    "z = 8.9\n",
    "r = -3\n",
    "(x<y) and (z<y) or (r==x)"
   ]
  },
  {
   "cell_type": "code",
   "execution_count": null,
   "id": "ce123e68",
   "metadata": {},
   "outputs": [],
   "source": [
    "(x<y) and (r==x) or (z>y) "
   ]
  },
  {
   "cell_type": "code",
   "execution_count": null,
   "id": "5ece051a",
   "metadata": {},
   "outputs": [],
   "source": [
    "False and False or True"
   ]
  },
  {
   "cell_type": "code",
   "execution_count": null,
   "id": "b83fea37",
   "metadata": {},
   "outputs": [],
   "source": [
    "(True or False) and False"
   ]
  },
  {
   "cell_type": "code",
   "execution_count": null,
   "id": "2069b663",
   "metadata": {},
   "outputs": [],
   "source": [
    "print((not(2!=3 and True) or (False and True)))"
   ]
  },
  {
   "cell_type": "code",
   "execution_count": null,
   "id": "d70d8424",
   "metadata": {},
   "outputs": [],
   "source": [
    "print(round(5.325533245))"
   ]
  },
  {
   "cell_type": "code",
   "execution_count": null,
   "id": "c03f9254",
   "metadata": {},
   "outputs": [],
   "source": [
    "print(round(4.22155,3))"
   ]
  },
  {
   "cell_type": "code",
   "execution_count": null,
   "id": "91dc82cd",
   "metadata": {},
   "outputs": [],
   "source": [
    "print(round(4.562))"
   ]
  },
  {
   "cell_type": "code",
   "execution_count": null,
   "id": "bca436cd",
   "metadata": {},
   "outputs": [],
   "source": [
    "print(round(4.3221,1))"
   ]
  },
  {
   "cell_type": "code",
   "execution_count": null,
   "id": "25b9e928",
   "metadata": {},
   "outputs": [],
   "source": [
    "divmod(27,5)"
   ]
  },
  {
   "cell_type": "code",
   "execution_count": null,
   "id": "38f87cb7",
   "metadata": {},
   "outputs": [],
   "source": [
    "divmod(34,9)"
   ]
  },
  {
   "cell_type": "code",
   "execution_count": null,
   "id": "152e7e2c",
   "metadata": {},
   "outputs": [],
   "source": [
    "g=divmod(34,9)"
   ]
  },
  {
   "cell_type": "code",
   "execution_count": null,
   "id": "7a01f433",
   "metadata": {},
   "outputs": [],
   "source": [
    "type(g)"
   ]
  },
  {
   "cell_type": "code",
   "execution_count": null,
   "id": "a031cda4",
   "metadata": {},
   "outputs": [],
   "source": [
    "%whos"
   ]
  },
  {
   "cell_type": "code",
   "execution_count": null,
   "id": "f8b68aaa",
   "metadata": {},
   "outputs": [],
   "source": [
    "g[0]"
   ]
  },
  {
   "cell_type": "code",
   "execution_count": null,
   "id": "bf0eddf2",
   "metadata": {},
   "outputs": [],
   "source": [
    "print(isinstance(1,int))"
   ]
  },
  {
   "cell_type": "code",
   "execution_count": null,
   "id": "60769c9f",
   "metadata": {},
   "outputs": [],
   "source": [
    "print(isinstance('flaot',str))"
   ]
  },
  {
   "cell_type": "code",
   "execution_count": null,
   "id": "4ea0809f",
   "metadata": {},
   "outputs": [],
   "source": [
    "a=float(input(\"Enter a real Number: \"))"
   ]
  },
  {
   "cell_type": "code",
   "execution_count": null,
   "id": "a74ce2e3",
   "metadata": {},
   "outputs": [],
   "source": [
    "type(a)"
   ]
  },
  {
   "cell_type": "code",
   "execution_count": null,
   "id": "07b25384",
   "metadata": {},
   "outputs": [],
   "source": [
    "pow?"
   ]
  },
  {
   "cell_type": "code",
   "execution_count": null,
   "id": "f6f3bea9",
   "metadata": {},
   "outputs": [],
   "source": [
    "input?"
   ]
  },
  {
   "cell_type": "code",
   "execution_count": null,
   "id": "3683bef2",
   "metadata": {},
   "outputs": [],
   "source": [
    "help(pow)"
   ]
  },
  {
   "cell_type": "code",
   "execution_count": null,
   "id": "bf935992",
   "metadata": {},
   "outputs": [],
   "source": [
    "a=int(input(\"Enter any Number: \"))\n",
    "b=int(input(\"Enter 2nd Number: \"))\n",
    "if a>b:\n",
    "    print(a,\"is Bigger\")\n",
    "elif a==b:\n",
    "    print(\"Equal Numbers\")\n",
    "else:\n",
    "    print(b,\"is Bigger\")"
   ]
  },
  {
   "cell_type": "code",
   "execution_count": null,
   "id": "f4ece9c3",
   "metadata": {},
   "outputs": [],
   "source": [
    "%whos"
   ]
  },
  {
   "cell_type": "code",
   "execution_count": null,
   "id": "719c61cc",
   "metadata": {},
   "outputs": [],
   "source": [
    "a=int(input(\"Enter Marks: \"))\n",
    "if a>=85:\n",
    "    print(\"A Grade\")\n",
    "elif a>=80 and a<85:\n",
    "    print(\"A- Grade\")\n",
    "elif a<80 and a>=75:\n",
    "    print(\"B Grade\")\n",
    "elif a<75 and a>=70:\n",
    "    print(\"B- Grade\")\n",
    "else:\n",
    "    print(\"Below Average...:)\")"
   ]
  },
  {
   "cell_type": "code",
   "execution_count": null,
   "id": "2209cbcb",
   "metadata": {},
   "outputs": [],
   "source": [
    "a=int(input(\"Enter any Number: \"))\n",
    "if a>10:\n",
    "    print(\">10\")\n",
    "    if a>20:\n",
    "        print(\">20\")\n",
    "        if a>30:\n",
    "            print(\">30\")\n",
    "        else:\n",
    "            print(\"Greater\")\n",
    "else:\n",
    "    print('number not greater than 10')"
   ]
  },
  {
   "cell_type": "code",
   "execution_count": null,
   "id": "f32b5d0b",
   "metadata": {},
   "outputs": [],
   "source": [
    "x=float(input(\"Enter real Number: \"))\n",
    "if x>0:\n",
    "    y=round(x)\n",
    "    if y>x:\n",
    "        inPosition=y-1\n",
    "        print(inPosition)\n",
    "    else:\n",
    "        inPosition = y\n",
    "        print(inPosition)\n",
    "if x<0:\n",
    "    y=round(x)\n",
    "    if y<x:\n",
    "        inPosition=y+1\n",
    "        print(inPosition)\n",
    "    else:\n",
    "        inPosition=y\n",
    "        print(inPosition)\n",
    "        \n",
    "if inPosition%2==0:\n",
    "    print(\"EVEN\")\n",
    "else:\n",
    "    print(\"ODD\")"
   ]
  },
  {
   "cell_type": "code",
   "execution_count": null,
   "id": "ed209fa6",
   "metadata": {},
   "outputs": [],
   "source": [
    "n=int(input(\"Enter the Number of Loop you want\"))\n",
    "i=1\n",
    "while i<n:\n",
    "    print(i**2)\n",
    "    i+=1\n",
    "print(\"Loop Ended\")"
   ]
  },
  {
   "cell_type": "code",
   "execution_count": null,
   "id": "0be95689",
   "metadata": {},
   "outputs": [],
   "source": [
    "n=10\n",
    "i=1\n",
    "while True:\n",
    "    if i%5!=0:\n",
    "        print(\"Inside IF\")\n",
    "        i=i+1\n",
    "        continue\n",
    "    print(\"Outside Loop\")\n",
    "    break\n",
    "print(\"Done\")\n",
    "    "
   ]
  },
  {
   "cell_type": "code",
   "execution_count": null,
   "id": "0ce38b31",
   "metadata": {},
   "outputs": [],
   "source": [
    "l=[]\n",
    "for i in range(0,10,2):\n",
    "    print(i)\n",
    "    l.append(i**2)\n",
    "    print(l)"
   ]
  },
  {
   "cell_type": "code",
   "execution_count": null,
   "id": "19769a4b",
   "metadata": {},
   "outputs": [],
   "source": [
    "s={'apples',4.6,'Cherry'}\n",
    "i=1\n",
    "for x in s:\n",
    "    print(x)\n",
    "    i+=1\n",
    "    if i==3:\n",
    "        break\n",
    "    else:\n",
    "        pass\n",
    "else:\n",
    "    print(\"Iteration Complete\")\n",
    "print(\"Outside\")"
   ]
  },
  {
   "cell_type": "code",
   "execution_count": null,
   "id": "c94e156f",
   "metadata": {},
   "outputs": [],
   "source": [
    "s={'My','Name','Is'}\n",
    "i=1\n",
    "for x in s:\n",
    "    print(x)\n",
    "    i+=1\n",
    "    if i==4:\n",
    "        break\n",
    "    else:\n",
    "        continue\n",
    "else:\n",
    "    print(\"The Interation is Complete\")\n",
    "print(\"Outside\")"
   ]
  },
  {
   "cell_type": "code",
   "execution_count": null,
   "id": "d950bc9a",
   "metadata": {},
   "outputs": [],
   "source": [
    "d={\"A\":1,\"B\":2,\"C\":3}\n",
    "for x in d:\n",
    "    print(x,d[x])"
   ]
  },
  {
   "cell_type": "code",
   "execution_count": null,
   "id": "019de7a4",
   "metadata": {},
   "outputs": [],
   "source": [
    "l=[9,8,7,6,5,4,3]\n",
    "for i in range(len(l)):\n",
    "    for j in range(i+1,len(l)):\n",
    "        if l[j]<l[i]:\n",
    "            temp=l[i]\n",
    "            l[i]=l[j]\n",
    "            l[j]=temp\n",
    "print(l)"
   ]
  },
  {
   "cell_type": "code",
   "execution_count": null,
   "id": "1a282d08",
   "metadata": {},
   "outputs": [],
   "source": [
    "l.sort()\n",
    "print(l)"
   ]
  },
  {
   "cell_type": "code",
   "execution_count": null,
   "id": "2c4e8189",
   "metadata": {},
   "outputs": [],
   "source": [
    "def printsuccess():\n",
    "    print(\"I am Done \")\n",
    "    print(\"Send Me Another Task\")\n",
    "printsuccess()"
   ]
  },
  {
   "cell_type": "code",
   "execution_count": null,
   "id": "3114a60a",
   "metadata": {},
   "outputs": [],
   "source": [
    "def printsuccess2():\n",
    "    '''this function is doing nothing except\n",
    "        printing a message.That message is 'Hello'\n",
    "    '''\n",
    "    print('hello')"
   ]
  },
  {
   "cell_type": "code",
   "execution_count": null,
   "id": "77a835dc",
   "metadata": {},
   "outputs": [],
   "source": [
    "help(printsuccess2)"
   ]
  },
  {
   "cell_type": "code",
   "execution_count": null,
   "id": "76a9c3cb",
   "metadata": {},
   "outputs": [],
   "source": [
    "def printMsg(msg,a,b,c):\n",
    "    '''\n",
    "    The function prints the message supplied by the user or prints the message is not in \n",
    "    form of string\n",
    "    '''\n",
    "    if isinstance(msg,str,a,b,c,int):\n",
    "        print(msg)\n",
    "    else:\n",
    "        print('Your input argument is not a string')\n",
    "        print(\"Here is what you have supplied\",msg)\n",
    "        print(\"Type of  message\",type(msg))\n",
    "        print(\"Your Number typed here are\",a,b,c)\n",
    "    "
   ]
  },
  {
   "cell_type": "code",
   "execution_count": null,
   "id": "74fcf3c3",
   "metadata": {},
   "outputs": [],
   "source": [
    "printMsg??"
   ]
  },
  {
   "cell_type": "code",
   "execution_count": null,
   "id": "11bd7744",
   "metadata": {},
   "outputs": [],
   "source": [
    "printMsg(\"Hello my Name is mayank\")"
   ]
  },
  {
   "cell_type": "code",
   "execution_count": null,
   "id": "04a87dc0",
   "metadata": {},
   "outputs": [],
   "source": [
    "printMsg(34.2)"
   ]
  },
  {
   "cell_type": "code",
   "execution_count": null,
   "id": "de3fd439",
   "metadata": {},
   "outputs": [],
   "source": [
    "y='Hello there miss'\n",
    "printMsg(y)"
   ]
  },
  {
   "cell_type": "code",
   "execution_count": null,
   "id": "7220bc45",
   "metadata": {},
   "outputs": [],
   "source": [
    "printMsg(\"I love these numbers\",1,2,3)"
   ]
  },
  {
   "cell_type": "code",
   "execution_count": null,
   "id": "d918e63f",
   "metadata": {},
   "outputs": [],
   "source": [
    "def mypow(a,b):\n",
    "    '''\n",
    "    This function compute powers of the Numbers\n",
    "\n",
    "'''\n",
    "    return a**b\n"
   ]
  },
  {
   "cell_type": "code",
   "execution_count": null,
   "id": "923f6a81",
   "metadata": {},
   "outputs": [],
   "source": [
    "mypow?"
   ]
  },
  {
   "cell_type": "code",
   "execution_count": null,
   "id": "c72b75de",
   "metadata": {},
   "outputs": [],
   "source": [
    "mypow(3,4)"
   ]
  },
  {
   "cell_type": "code",
   "execution_count": null,
   "id": "d0284dea",
   "metadata": {},
   "outputs": [],
   "source": [
    "def checkArg(a,b,c):\n",
    "    '''\n",
    "    Check the argument of the variables provided by the users\n",
    "    '''\n",
    "    if isinstance(a,(int,float)) and isinstance(b,(int,float)) and isinstance(c,(int,float)):\n",
    "        print((a+b+c)**3)\n",
    "        print(\"b:\",b,\"a:\",a,\"c:\",c)\n",
    "    else:\n",
    "        print(\"Error:Checl your Input Arguments To Continue\")\n",
    "    "
   ]
  },
  {
   "cell_type": "code",
   "execution_count": null,
   "id": "67fd1d8d",
   "metadata": {},
   "outputs": [],
   "source": [
    "checkArg(4,3,5)"
   ]
  },
  {
   "cell_type": "code",
   "execution_count": null,
   "id": "bb35da05",
   "metadata": {},
   "outputs": [],
   "source": [
    "checkArg('a',3,2)"
   ]
  },
  {
   "cell_type": "code",
   "execution_count": null,
   "id": "6f5bdca8",
   "metadata": {},
   "outputs": [],
   "source": [
    "checkArg(3,4)"
   ]
  },
  {
   "cell_type": "code",
   "execution_count": null,
   "id": "872f4eb4",
   "metadata": {},
   "outputs": [],
   "source": [
    "checkArg(3,5,21,2)"
   ]
  },
  {
   "cell_type": "code",
   "execution_count": null,
   "id": "32979d2b",
   "metadata": {},
   "outputs": [],
   "source": [
    "checkArg(44,44,44)"
   ]
  },
  {
   "cell_type": "code",
   "execution_count": null,
   "id": "16f0d588",
   "metadata": {},
   "outputs": [],
   "source": [
    "checkArg(a=2,b=4,c=6)"
   ]
  },
  {
   "cell_type": "code",
   "execution_count": null,
   "id": "134aeded",
   "metadata": {},
   "outputs": [],
   "source": [
    "def myadd(a,b):\n",
    "    c=a+b\n",
    "    return c"
   ]
  },
  {
   "cell_type": "code",
   "execution_count": null,
   "id": "c7269921",
   "metadata": {},
   "outputs": [],
   "source": [
    "d=myadd(3,3)\n",
    "print(d)"
   ]
  },
  {
   "cell_type": "code",
   "execution_count": null,
   "id": "607a8fb4",
   "metadata": {},
   "outputs": [],
   "source": [
    "VarOut=3"
   ]
  },
  {
   "cell_type": "code",
   "execution_count": null,
   "id": "ac3d7703",
   "metadata": {},
   "outputs": [],
   "source": [
    "def f():\n",
    "    VarOut=5\n",
    "    #print(VarOut)"
   ]
  },
  {
   "cell_type": "code",
   "execution_count": null,
   "id": "b6a8412a",
   "metadata": {},
   "outputs": [],
   "source": [
    "print(type(f()))"
   ]
  },
  {
   "cell_type": "code",
   "execution_count": null,
   "id": "4480d652",
   "metadata": {},
   "outputs": [],
   "source": [
    "print(VarOut)"
   ]
  },
  {
   "cell_type": "code",
   "execution_count": null,
   "id": "946bde5d",
   "metadata": {},
   "outputs": [],
   "source": [
    "def h():\n",
    "    print(\"A\")\n",
    "    a=3\n",
    "    b=5\n",
    "    c=a+b\n",
    "    print(\"Something\")\n",
    "    return c\n",
    "    print(\"B\")\n",
    "    print(\"C\")"
   ]
  },
  {
   "cell_type": "code",
   "execution_count": null,
   "id": "e353101e",
   "metadata": {},
   "outputs": [],
   "source": [
    "print(type(h()))"
   ]
  },
  {
   "cell_type": "code",
   "execution_count": null,
   "id": "2592e799",
   "metadata": {},
   "outputs": [],
   "source": [
    "def j():\n",
    "    a=5\n",
    "    b=10\n",
    "    d=\"Mayank\"\n",
    "    return a,b,d\n",
    "    "
   ]
  },
  {
   "cell_type": "code",
   "execution_count": null,
   "id": "1ded3049",
   "metadata": {},
   "outputs": [],
   "source": [
    "x,y,z=j()\n",
    "print(x,y,z)"
   ]
  },
  {
   "cell_type": "code",
   "execution_count": null,
   "id": "95f2e99e",
   "metadata": {},
   "outputs": [],
   "source": [
    "def sum(*d):\n",
    "    sum=0\n",
    "    for i in range(len(d)):\n",
    "        sum+=d[i]\n",
    "    return sum\n",
    "print(sum(4,3,20))"
   ]
  },
  {
   "cell_type": "code",
   "execution_count": null,
   "id": "4b488c2c",
   "metadata": {},
   "outputs": [],
   "source": [
    "def f(**c):\n",
    "    for x in c:\n",
    "        print(\"Variable name is:\",x,\"Value is:\",c[x])"
   ]
  },
  {
   "cell_type": "code",
   "execution_count": null,
   "id": "6525efe1",
   "metadata": {},
   "outputs": [],
   "source": [
    "f(c1=8,c2=4,c3=2)"
   ]
  },
  {
   "cell_type": "code",
   "execution_count": null,
   "id": "5122c394",
   "metadata": {},
   "outputs": [],
   "source": [
    "def printAllV(**c):\n",
    "    for x in c:\n",
    "        print(\"Variable name is:\",x,\"Value is:\",c[x])\n",
    "printAllV(c1=3,c2='All Stars',c3=5,c4='Mayank')"
   ]
  },
  {
   "cell_type": "code",
   "execution_count": null,
   "id": "ad5cf162",
   "metadata": {},
   "outputs": [],
   "source": [
    "def gg(s=4):\n",
    "    print(s)\n",
    "    "
   ]
  },
  {
   "cell_type": "code",
   "execution_count": null,
   "id": "b7879c8b",
   "metadata": {},
   "outputs": [],
   "source": [
    "gg()"
   ]
  },
  {
   "cell_type": "code",
   "execution_count": null,
   "id": "f56904c7",
   "metadata": {},
   "outputs": [],
   "source": [
    "gg(56)"
   ]
  },
  {
   "cell_type": "code",
   "execution_count": null,
   "id": "e5aafddf",
   "metadata": {},
   "outputs": [],
   "source": [
    "l=[1,23,3]\n",
    "l2=l\n",
    "l[0]=-9\n",
    "print(l)"
   ]
  },
  {
   "cell_type": "code",
   "execution_count": null,
   "id": "36a5f742",
   "metadata": {},
   "outputs": [],
   "source": [
    "def ff(l=[1,2]):\n",
    "    for i in l:\n",
    "        print(i)"
   ]
  },
  {
   "cell_type": "code",
   "execution_count": null,
   "id": "9bae64b6",
   "metadata": {},
   "outputs": [],
   "source": [
    "l2=[2,3,14]\n",
    "ff(l2)"
   ]
  },
  {
   "cell_type": "code",
   "execution_count": null,
   "id": "7481f546",
   "metadata": {},
   "outputs": [],
   "source": [
    "def superadd(*sum):\n",
    "    s=0\n",
    "    for i in range(len(sum)):\n",
    "        s+=sum[i]\n",
    "    return s\n",
    "print(superadd(3,4,5))\n"
   ]
  },
  {
   "cell_type": "code",
   "execution_count": null,
   "id": "9f7f3c5d",
   "metadata": {},
   "outputs": [],
   "source": [
    "import sys\n",
    "sys.path.append(\"C:/Users/mayan/Downloads/datasets/\")\n",
    "import Module as m\n",
    "#from Module import Add"
   ]
  },
  {
   "cell_type": "code",
   "execution_count": null,
   "id": "121eec83",
   "metadata": {},
   "outputs": [],
   "source": [
    "Add(2,3)"
   ]
  },
  {
   "cell_type": "code",
   "execution_count": null,
   "id": "ab2a8ff9",
   "metadata": {},
   "outputs": [],
   "source": [
    "m.Add??"
   ]
  },
  {
   "cell_type": "code",
   "execution_count": null,
   "id": "93603d6a",
   "metadata": {},
   "outputs": [],
   "source": [
    "m.Add(2,3,4,5)"
   ]
  },
  {
   "cell_type": "code",
   "execution_count": null,
   "id": "dfbce792",
   "metadata": {},
   "outputs": [],
   "source": [
    "m.myName"
   ]
  },
  {
   "cell_type": "markdown",
   "id": "62417e9e",
   "metadata": {},
   "source": [
    "# Practice\n"
   ]
  },
  {
   "cell_type": "code",
   "execution_count": null,
   "id": "df54ec1b",
   "metadata": {},
   "outputs": [],
   "source": [
    "def sorting():\n",
    "    l=[13,2,-3,4,54]\n",
    "    for i in range(len(l)):\n",
    "        for j in range(i+1,len(l)):\n",
    "            if l[j]<l[i]:\n",
    "                temp=l[i]\n",
    "                l[i]=l[j]\n",
    "                l[j]=temp\n",
    "    print(l)\n",
    "\n",
    "            "
   ]
  },
  {
   "cell_type": "code",
   "execution_count": null,
   "id": "268fbadb",
   "metadata": {},
   "outputs": [],
   "source": [
    "sorting()"
   ]
  },
  {
   "cell_type": "code",
   "execution_count": null,
   "id": "62d0037f",
   "metadata": {},
   "outputs": [],
   "source": [
    "import sys\n",
    "sys.path.append(\"C:/Users/mayan/Downloads/datasets/\")\n",
    "import Module2 as m"
   ]
  },
  {
   "cell_type": "code",
   "execution_count": null,
   "id": "6d8e27ec",
   "metadata": {},
   "outputs": [],
   "source": [
    "m.sorting()"
   ]
  },
  {
   "cell_type": "code",
   "execution_count": null,
   "id": "40884c7d",
   "metadata": {},
   "outputs": [],
   "source": [
    "def add(*sum):\n",
    "    s=0\n",
    "    for i in range(len(sum)):\n",
    "        s+=sum[i]\n",
    "    return s\n"
   ]
  },
  {
   "cell_type": "code",
   "execution_count": null,
   "id": "55fd3887",
   "metadata": {},
   "outputs": [],
   "source": [
    "add(2,3)"
   ]
  },
  {
   "cell_type": "code",
   "execution_count": 7,
   "id": "f9f9e377",
   "metadata": {},
   "outputs": [],
   "source": [
    "def TrueOrFalse(a,b):\n",
    "    if not isinstance(a,bool):\n",
    "        print(\"Enter the Appropriate Value for a\")\n",
    "    if not isinstance(b,bool):\n",
    "        print(\"Enter the Appropriate Value for b\")\n",
    "    Ans=(a and b) and (a or b)\n",
    "    if Ans==True:\n",
    "        print(\"Your Answer is True\")\n",
    "    if Ans==False:\n",
    "        print(\"Your Answer is False\")\n"
   ]
  },
  {
   "cell_type": "code",
   "execution_count": 14,
   "id": "3bb019ac",
   "metadata": {},
   "outputs": [
    {
     "name": "stdout",
     "output_type": "stream",
     "text": [
      "Your Answer is True\n"
     ]
    }
   ],
   "source": [
    "TrueOrFalse(True,False)"
   ]
  },
  {
   "cell_type": "code",
   "execution_count": 9,
   "id": "a3fdffe4",
   "metadata": {},
   "outputs": [
    {
     "name": "stdout",
     "output_type": "stream",
     "text": [
      "Variable       Type        Data/Info\n",
      "------------------------------------\n",
      "MultipleTime   function    <function MultipleTime at 0x0000027DCA36F550>\n",
      "TrueOrFalse    function    <function TrueOrFalse at 0x0000027DCB47F430>\n",
      "d              NoneType    None\n"
     ]
    }
   ],
   "source": [
    "%whos"
   ]
  },
  {
   "cell_type": "code",
   "execution_count": 46,
   "id": "d01b816c",
   "metadata": {},
   "outputs": [],
   "source": [
    "def FindMin(l,Start):\n",
    "    min=l[Start]\n",
    "    idx=Start\n",
    "    for i in range(Start,len(l)):\n",
    "        x=l[i]\n",
    "        if x<min:\n",
    "            m=x\n",
    "            idx=i\n",
    "        else:\n",
    "            pass\n",
    "\n",
    "    return min,idx"
   ]
  },
  {
   "cell_type": "code",
   "execution_count": 40,
   "id": "41c62564",
   "metadata": {},
   "outputs": [
    {
     "ename": "TypeError",
     "evalue": "FindMin() missing 1 required positional argument: 'Start'",
     "output_type": "error",
     "traceback": [
      "\u001b[1;31m---------------------------------------------------------------------------\u001b[0m",
      "\u001b[1;31mTypeError\u001b[0m                                 Traceback (most recent call last)",
      "\u001b[1;32m<ipython-input-40-de2369c467a7>\u001b[0m in \u001b[0;36m<module>\u001b[1;34m\u001b[0m\n\u001b[1;32m----> 1\u001b[1;33m \u001b[0ma\u001b[0m\u001b[1;33m,\u001b[0m\u001b[0mb\u001b[0m\u001b[1;33m=\u001b[0m\u001b[0mFindMin\u001b[0m\u001b[1;33m(\u001b[0m\u001b[1;33m[\u001b[0m\u001b[1;36m2\u001b[0m\u001b[1;33m,\u001b[0m\u001b[1;36m3\u001b[0m\u001b[1;33m,\u001b[0m\u001b[1;36m4\u001b[0m\u001b[1;33m,\u001b[0m\u001b[1;36m0\u001b[0m\u001b[1;33m,\u001b[0m\u001b[1;36m9\u001b[0m\u001b[1;33m]\u001b[0m\u001b[1;33m)\u001b[0m\u001b[1;33m\u001b[0m\u001b[1;33m\u001b[0m\u001b[0m\n\u001b[0m",
      "\u001b[1;31mTypeError\u001b[0m: FindMin() missing 1 required positional argument: 'Start'"
     ]
    }
   ],
   "source": [
    "a,b=FindMin([2,3,4,0,9])"
   ]
  },
  {
   "cell_type": "code",
   "execution_count": 19,
   "id": "e00e3bc9",
   "metadata": {},
   "outputs": [
    {
     "name": "stdout",
     "output_type": "stream",
     "text": [
      "0 3\n"
     ]
    }
   ],
   "source": [
    "print(a,b)"
   ]
  },
  {
   "cell_type": "code",
   "execution_count": 20,
   "id": "643d0415",
   "metadata": {},
   "outputs": [],
   "source": [
    "def swap(l,idx1,idx2):\n",
    "    temp=l[idx1]\n",
    "    l[idx1]=l[idx2]\n",
    "    l[idx2]=temp\n",
    "    return l"
   ]
  },
  {
   "cell_type": "code",
   "execution_count": 21,
   "id": "272cc92b",
   "metadata": {},
   "outputs": [],
   "source": [
    "l=[2,3,6,7]\n",
    "l2=swap(l,1,3)"
   ]
  },
  {
   "cell_type": "code",
   "execution_count": 23,
   "id": "c2c493c7",
   "metadata": {},
   "outputs": [
    {
     "name": "stdout",
     "output_type": "stream",
     "text": [
      "[2, 7, 6, 3]\n"
     ]
    }
   ],
   "source": [
    "print(l2)"
   ]
  },
  {
   "cell_type": "code",
   "execution_count": 47,
   "id": "1947683b",
   "metadata": {},
   "outputs": [],
   "source": [
    "import sys\n",
    "sys.path.append(\"C:/Users/mayan/Downloads/datasets/\")\n",
    "from Module import checkAllArgs\n",
    "def sortlist(l):\n",
    "    if not checkAllArgs(l):\n",
    "        print(\"Error:List Doesnot contain Numeric values\")\n",
    "        return\n",
    "    else:\n",
    "        c=0\n",
    "        for x in l:\n",
    "            m,idx=FindMin(l,c)\n",
    "            l=swap(l,c,idx)\n",
    "            c+=1\n",
    "    return l\n",
    "            \n",
    "    "
   ]
  },
  {
   "cell_type": "code",
   "execution_count": 48,
   "id": "1d1df927",
   "metadata": {},
   "outputs": [
    {
     "name": "stdout",
     "output_type": "stream",
     "text": [
      "[-8, 1, 2, 3, 5, 17]\n"
     ]
    }
   ],
   "source": [
    "l2=sortlist([2,1,5,3,-8,17])\n",
    "print(l2)"
   ]
  },
  {
   "cell_type": "code",
   "execution_count": 43,
   "id": "5fd4df38",
   "metadata": {},
   "outputs": [
    {
     "name": "stdout",
     "output_type": "stream",
     "text": [
      "True\n"
     ]
    }
   ],
   "source": [
    "print(checkAllArgs([2,1,5,3,-8,17]))"
   ]
  },
  {
   "cell_type": "code",
   "execution_count": 53,
   "id": "6d30879a",
   "metadata": {},
   "outputs": [],
   "source": [
    "def findMinAndDel(l):\n",
    "    min=l[0]\n",
    "    idx=0\n",
    "    i=0\n",
    "    for x in l:\n",
    "        if x<min:\n",
    "            min=x\n",
    "            idx=i\n",
    "        else:\n",
    "            pass\n",
    "        i+=1\n",
    "    del l[idx]\n",
    "    print(l)\n",
    "    "
   ]
  },
  {
   "cell_type": "code",
   "execution_count": 54,
   "id": "6970b1e3",
   "metadata": {},
   "outputs": [
    {
     "name": "stdout",
     "output_type": "stream",
     "text": [
      "[2, -2, 3, 1, 23]\n"
     ]
    }
   ],
   "source": [
    "c=findMinAndDel([2,-2,3,1,23,-6])"
   ]
  },
  {
   "cell_type": "code",
   "execution_count": 1,
   "id": "9e8950c4",
   "metadata": {},
   "outputs": [
    {
     "name": "stdout",
     "output_type": "stream",
     "text": [
      "My name is Mayank ChandraI study in S.r.m university\n"
     ]
    }
   ],
   "source": [
    "s=\"My name is Mayank Chandra\"\n",
    "t=\"I study in S.r.m university\"\n",
    "print(s+t)"
   ]
  },
  {
   "cell_type": "code",
   "execution_count": 2,
   "id": "641f293d",
   "metadata": {},
   "outputs": [
    {
     "data": {
      "text/plain": [
       "str"
      ]
     },
     "execution_count": 2,
     "metadata": {},
     "output_type": "execute_result"
    }
   ],
   "source": [
    "s=\"Python is good For data science\"\n",
    "t='Python is the best'\n",
    "type(s)"
   ]
  },
  {
   "cell_type": "code",
   "execution_count": 3,
   "id": "f8c8f85c",
   "metadata": {},
   "outputs": [
    {
     "name": "stdout",
     "output_type": "stream",
     "text": [
      "Python is good For data science\n"
     ]
    }
   ],
   "source": [
    "print(s)"
   ]
  },
  {
   "cell_type": "code",
   "execution_count": 4,
   "id": "ee78110b",
   "metadata": {},
   "outputs": [
    {
     "name": "stdout",
     "output_type": "stream",
     "text": [
      "Python is good For data sciencePython is the best\n"
     ]
    }
   ],
   "source": [
    "v=s+t\n",
    "print(v)"
   ]
  },
  {
   "cell_type": "code",
   "execution_count": 5,
   "id": "f2d4267f",
   "metadata": {},
   "outputs": [],
   "source": [
    "v=s+\" \"+t"
   ]
  },
  {
   "cell_type": "code",
   "execution_count": 6,
   "id": "5045cb76",
   "metadata": {},
   "outputs": [
    {
     "name": "stdout",
     "output_type": "stream",
     "text": [
      "Python is good For data science Python is the best\n"
     ]
    }
   ],
   "source": [
    "print(v)"
   ]
  },
  {
   "cell_type": "code",
   "execution_count": 9,
   "id": "1a42e311",
   "metadata": {},
   "outputs": [
    {
     "name": "stdout",
     "output_type": "stream",
     "text": [
      "The price of this book is:12\n",
      "The price of this book  is: 12\n"
     ]
    }
   ],
   "source": [
    "price=12\n",
    "s=\"The price of this book\"\n",
    "v=s+ \" is:\"+ str(price)\n",
    "print(v)\n",
    "print(s,' is:',price)"
   ]
  },
  {
   "cell_type": "code",
   "execution_count": 10,
   "id": "97e1e6c3",
   "metadata": {},
   "outputs": [
    {
     "name": "stdout",
     "output_type": "stream",
     "text": [
      "This is the first string \n",
      "            this is second line\n"
     ]
    }
   ],
   "source": [
    "multiline='''This is the first string \n",
    "            this is second line'''\n",
    "print(multiline)"
   ]
  },
  {
   "cell_type": "code",
   "execution_count": 11,
   "id": "45c1b60e",
   "metadata": {},
   "outputs": [
    {
     "name": "stdout",
     "output_type": "stream",
     "text": [
      "this is line one\n",
      "this is line two\n",
      "this is line three\n"
     ]
    }
   ],
   "source": [
    "a='''this is line one\n",
    "this is line two\n",
    "this is line three'''\n",
    "print(a)"
   ]
  },
  {
   "cell_type": "code",
   "execution_count": 12,
   "id": "3ead4258",
   "metadata": {},
   "outputs": [
    {
     "name": "stdout",
     "output_type": "stream",
     "text": [
      "the following options are available:\n",
      "a): That does  nothing\n",
      "b): Also does nothing\n"
     ]
    }
   ],
   "source": [
    "b='''the following options are available:\n",
    "a): That does  nothing\n",
    "b): Also does nothing'''\n",
    "print(b)"
   ]
  },
  {
   "cell_type": "code",
   "execution_count": 13,
   "id": "39b7c2e3",
   "metadata": {},
   "outputs": [
    {
     "data": {
      "text/plain": [
       "'ing '"
      ]
     },
     "execution_count": 13,
     "metadata": {},
     "output_type": "execute_result"
    }
   ],
   "source": [
    "b[10:14]"
   ]
  },
  {
   "cell_type": "code",
   "execution_count": 14,
   "id": "1465759b",
   "metadata": {},
   "outputs": [
    {
     "name": "stdout",
     "output_type": "stream",
     "text": [
      "81\n"
     ]
    }
   ],
   "source": [
    "print(len(b))"
   ]
  },
  {
   "cell_type": "code",
   "execution_count": 15,
   "id": "b59450f7",
   "metadata": {},
   "outputs": [
    {
     "name": "stdout",
     "output_type": "stream",
     "text": [
      "he following o\n"
     ]
    }
   ],
   "source": [
    "print(b[1:15])"
   ]
  },
  {
   "cell_type": "code",
   "execution_count": 16,
   "id": "79ee4150",
   "metadata": {},
   "outputs": [
    {
     "name": "stdout",
     "output_type": "stream",
     "text": [
      "Game of Programming\n"
     ]
    }
   ],
   "source": [
    "a=\"Game of Programming\"\n",
    "print(a)"
   ]
  },
  {
   "cell_type": "code",
   "execution_count": 22,
   "id": "c866cca1",
   "metadata": {},
   "outputs": [
    {
     "name": "stdout",
     "output_type": "stream",
     "text": [
      "30\n"
     ]
    }
   ],
   "source": [
    "s=\"How are you And whoa are you??\"\n",
    "print(len(s))"
   ]
  },
  {
   "cell_type": "code",
   "execution_count": 23,
   "id": "64f5c248",
   "metadata": {},
   "outputs": [
    {
     "data": {
      "text/plain": [
       "str"
      ]
     },
     "execution_count": 23,
     "metadata": {},
     "output_type": "execute_result"
    }
   ],
   "source": [
    "type(s[0:])"
   ]
  },
  {
   "cell_type": "code",
   "execution_count": 24,
   "id": "619b7d8a",
   "metadata": {},
   "outputs": [
    {
     "name": "stdout",
     "output_type": "stream",
     "text": [
      "How are you And whoa are you??\n"
     ]
    }
   ],
   "source": [
    "print(s[0:30])"
   ]
  },
  {
   "cell_type": "code",
   "execution_count": 25,
   "id": "0a24dfba",
   "metadata": {},
   "outputs": [
    {
     "ename": "TypeError",
     "evalue": "'str' object does not support item assignment",
     "output_type": "error",
     "traceback": [
      "\u001b[1;31m---------------------------------------------------------------------------\u001b[0m",
      "\u001b[1;31mTypeError\u001b[0m                                 Traceback (most recent call last)",
      "\u001b[1;32m<ipython-input-25-a48f8dc4891f>\u001b[0m in \u001b[0;36m<module>\u001b[1;34m\u001b[0m\n\u001b[1;32m----> 1\u001b[1;33m \u001b[0ms\u001b[0m\u001b[1;33m[\u001b[0m\u001b[1;36m2\u001b[0m\u001b[1;33m]\u001b[0m\u001b[1;33m=\u001b[0m\u001b[1;34m'2'\u001b[0m\u001b[1;33m\u001b[0m\u001b[1;33m\u001b[0m\u001b[0m\n\u001b[0m",
      "\u001b[1;31mTypeError\u001b[0m: 'str' object does not support item assignment"
     ]
    }
   ],
   "source": [
    "s[2]='2'"
   ]
  },
  {
   "cell_type": "code",
   "execution_count": 26,
   "id": "90c28a11",
   "metadata": {},
   "outputs": [
    {
     "ename": "TypeError",
     "evalue": "'str' object doesn't support item deletion",
     "output_type": "error",
     "traceback": [
      "\u001b[1;31m---------------------------------------------------------------------------\u001b[0m",
      "\u001b[1;31mTypeError\u001b[0m                                 Traceback (most recent call last)",
      "\u001b[1;32m<ipython-input-26-e48aef1fce88>\u001b[0m in \u001b[0;36m<module>\u001b[1;34m\u001b[0m\n\u001b[1;32m----> 1\u001b[1;33m \u001b[1;32mdel\u001b[0m \u001b[0ms\u001b[0m\u001b[1;33m[\u001b[0m\u001b[1;36m2\u001b[0m\u001b[1;33m]\u001b[0m\u001b[1;33m\u001b[0m\u001b[1;33m\u001b[0m\u001b[0m\n\u001b[0m",
      "\u001b[1;31mTypeError\u001b[0m: 'str' object doesn't support item deletion"
     ]
    }
   ],
   "source": [
    "del s[2]"
   ]
  },
  {
   "cell_type": "code",
   "execution_count": 27,
   "id": "d127cbb4",
   "metadata": {},
   "outputs": [],
   "source": [
    "del s\n"
   ]
  },
  {
   "cell_type": "code",
   "execution_count": 28,
   "id": "24faeb7e",
   "metadata": {},
   "outputs": [
    {
     "name": "stdout",
     "output_type": "stream",
     "text": [
      "Variable    Type    Data/Info\n",
      "-----------------------------\n",
      "a           str     Game of Programming\n",
      "b           str     the following options are<...>ng\\nb): Also does nothing\n",
      "multiline   str     This is the first string <...>      this is second line\n",
      "price       int     12\n",
      "t           str     Python is the best\n",
      "v           str     The price of this book is:12\n"
     ]
    }
   ],
   "source": [
    "%whos"
   ]
  },
  {
   "cell_type": "code",
   "execution_count": 29,
   "id": "7d8fa20e",
   "metadata": {},
   "outputs": [],
   "source": [
    "s=\"How are you And Who are you??\"\n"
   ]
  },
  {
   "cell_type": "code",
   "execution_count": 30,
   "id": "e8558a7e",
   "metadata": {},
   "outputs": [
    {
     "name": "stdout",
     "output_type": "stream",
     "text": [
      "Variable    Type    Data/Info\n",
      "-----------------------------\n",
      "a           str     Game of Programming\n",
      "b           str     the following options are<...>ng\\nb): Also does nothing\n",
      "multiline   str     This is the first string <...>      this is second line\n",
      "price       int     12\n",
      "s           str     How are you And Who are you??\n",
      "t           str     Python is the best\n",
      "v           str     The price of this book is:12\n"
     ]
    }
   ],
   "source": [
    "%whos"
   ]
  },
  {
   "cell_type": "code",
   "execution_count": 31,
   "id": "5f3905ec",
   "metadata": {},
   "outputs": [
    {
     "data": {
      "text/plain": [
       "'Hwaeyu'"
      ]
     },
     "execution_count": 31,
     "metadata": {},
     "output_type": "execute_result"
    }
   ],
   "source": [
    "s[0:12:2]"
   ]
  },
  {
   "cell_type": "code",
   "execution_count": 34,
   "id": "330e19e7",
   "metadata": {},
   "outputs": [
    {
     "data": {
      "text/plain": [
       "'How are you And Who are you??'"
      ]
     },
     "execution_count": 34,
     "metadata": {},
     "output_type": "execute_result"
    }
   ],
   "source": [
    "#s[start:end:step]\n",
    "s[0:]"
   ]
  },
  {
   "cell_type": "code",
   "execution_count": null,
   "id": "7728fbd5",
   "metadata": {},
   "outputs": [],
   "source": []
  }
 ],
 "metadata": {
  "kernelspec": {
   "display_name": "Python 3",
   "language": "python",
   "name": "python3"
  },
  "language_info": {
   "codemirror_mode": {
    "name": "ipython",
    "version": 3
   },
   "file_extension": ".py",
   "mimetype": "text/x-python",
   "name": "python",
   "nbconvert_exporter": "python",
   "pygments_lexer": "ipython3",
   "version": "3.8.8"
  }
 },
 "nbformat": 4,
 "nbformat_minor": 5
}
