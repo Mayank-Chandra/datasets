{
 "cells": [
  {
   "cell_type": "code",
   "execution_count": 57,
   "id": "89a1e48d",
   "metadata": {},
   "outputs": [],
   "source": [
    "import numpy as np\n",
    "import pandas as pd\n",
    "import matplotlib.pyplot as plt\n",
    "fruits=pd.read_csv('fruit-data-with-colours-master/fruit-data-with-colours-master/fruit_data_with_colours.csv')"
   ]
  },
  {
   "cell_type": "code",
   "execution_count": 62,
   "id": "66c03ee2",
   "metadata": {},
   "outputs": [
    {
     "name": "stdout",
     "output_type": "stream",
     "text": [
      "    fruit_label fruit_name     fruit_subtype  mass  width  height  color_score\n",
      "0             1      apple      granny_smith   192    8.4     7.3         0.55\n",
      "1             1      apple      granny_smith   180    8.0     6.8         0.59\n",
      "2             1      apple      granny_smith   176    7.4     7.2         0.60\n",
      "3             2   mandarin          mandarin    86    6.2     4.7         0.80\n",
      "4             2   mandarin          mandarin    84    6.0     4.6         0.79\n",
      "5             2   mandarin          mandarin    80    5.8     4.3         0.77\n",
      "6             2   mandarin          mandarin    80    5.9     4.3         0.81\n",
      "7             2   mandarin          mandarin    76    5.8     4.0         0.81\n",
      "8             1      apple          braeburn   178    7.1     7.8         0.92\n",
      "9             1      apple          braeburn   172    7.4     7.0         0.89\n",
      "10            1      apple          braeburn   166    6.9     7.3         0.93\n",
      "11            1      apple          braeburn   172    7.1     7.6         0.92\n",
      "12            1      apple          braeburn   154    7.0     7.1         0.88\n",
      "13            1      apple  golden_delicious   164    7.3     7.7         0.70\n",
      "14            1      apple  golden_delicious   152    7.6     7.3         0.69\n",
      "15            1      apple  golden_delicious   156    7.7     7.1         0.69\n",
      "16            1      apple  golden_delicious   156    7.6     7.5         0.67\n",
      "17            1      apple  golden_delicious   168    7.5     7.6         0.73\n",
      "18            1      apple       cripps_pink   162    7.5     7.1         0.83\n",
      "19            1      apple       cripps_pink   162    7.4     7.2         0.85\n",
      "20            1      apple       cripps_pink   160    7.5     7.5         0.86\n",
      "21            1      apple       cripps_pink   156    7.4     7.4         0.84\n",
      "22            1      apple       cripps_pink   140    7.3     7.1         0.87\n",
      "23            1      apple       cripps_pink   170    7.6     7.9         0.88\n",
      "24            3     orange     spanish_jumbo   342    9.0     9.4         0.75\n",
      "25            3     orange     spanish_jumbo   356    9.2     9.2         0.75\n",
      "26            3     orange     spanish_jumbo   362    9.6     9.2         0.74\n",
      "27            3     orange  selected_seconds   204    7.5     9.2         0.77\n",
      "28            3     orange  selected_seconds   140    6.7     7.1         0.72\n",
      "29            3     orange  selected_seconds   160    7.0     7.4         0.81\n",
      "30            3     orange  selected_seconds   158    7.1     7.5         0.79\n",
      "31            3     orange  selected_seconds   210    7.8     8.0         0.82\n",
      "32            3     orange  selected_seconds   164    7.2     7.0         0.80\n",
      "33            3     orange      turkey_navel   190    7.5     8.1         0.74\n",
      "34            3     orange      turkey_navel   142    7.6     7.8         0.75\n",
      "35            3     orange      turkey_navel   150    7.1     7.9         0.75\n",
      "36            3     orange      turkey_navel   160    7.1     7.6         0.76\n",
      "37            3     orange      turkey_navel   154    7.3     7.3         0.79\n",
      "38            3     orange      turkey_navel   158    7.2     7.8         0.77\n",
      "39            3     orange      turkey_navel   144    6.8     7.4         0.75\n",
      "40            3     orange      turkey_navel   154    7.1     7.5         0.78\n",
      "41            3     orange      turkey_navel   180    7.6     8.2         0.79\n",
      "42            3     orange      turkey_navel   154    7.2     7.2         0.82\n",
      "43            4      lemon    spanish_belsan   194    7.2    10.3         0.70\n",
      "44            4      lemon    spanish_belsan   200    7.3    10.5         0.72\n",
      "45            4      lemon    spanish_belsan   186    7.2     9.2         0.72\n",
      "46            4      lemon    spanish_belsan   216    7.3    10.2         0.71\n",
      "47            4      lemon    spanish_belsan   196    7.3     9.7         0.72\n",
      "48            4      lemon    spanish_belsan   174    7.3    10.1         0.72\n",
      "49            4      lemon           unknown   132    5.8     8.7         0.73\n",
      "50            4      lemon           unknown   130    6.0     8.2         0.71\n",
      "51            4      lemon           unknown   116    6.0     7.5         0.72\n",
      "52            4      lemon           unknown   118    5.9     8.0         0.72\n",
      "53            4      lemon           unknown   120    6.0     8.4         0.74\n",
      "54            4      lemon           unknown   116    6.1     8.5         0.71\n",
      "55            4      lemon           unknown   116    6.3     7.7         0.72\n",
      "56            4      lemon           unknown   116    5.9     8.1         0.73\n",
      "57            4      lemon           unknown   152    6.5     8.5         0.72\n",
      "58            4      lemon           unknown   118    6.1     8.1         0.70\n"
     ]
    }
   ],
   "source": [
    "print(fruits)"
   ]
  },
  {
   "cell_type": "code",
   "execution_count": 65,
   "id": "a127a5b1",
   "metadata": {},
   "outputs": [
    {
     "name": "stdout",
     "output_type": "stream",
     "text": [
      "[[ 8.4   7.3   0.55]\n",
      " [ 8.    6.8   0.59]\n",
      " [ 7.4   7.2   0.6 ]\n",
      " [ 6.2   4.7   0.8 ]\n",
      " [ 6.    4.6   0.79]\n",
      " [ 5.8   4.3   0.77]\n",
      " [ 5.9   4.3   0.81]\n",
      " [ 5.8   4.    0.81]\n",
      " [ 7.1   7.8   0.92]\n",
      " [ 7.4   7.    0.89]\n",
      " [ 6.9   7.3   0.93]\n",
      " [ 7.1   7.6   0.92]\n",
      " [ 7.    7.1   0.88]\n",
      " [ 7.3   7.7   0.7 ]\n",
      " [ 7.6   7.3   0.69]\n",
      " [ 7.7   7.1   0.69]\n",
      " [ 7.6   7.5   0.67]\n",
      " [ 7.5   7.6   0.73]\n",
      " [ 7.5   7.1   0.83]\n",
      " [ 7.4   7.2   0.85]\n",
      " [ 7.5   7.5   0.86]\n",
      " [ 7.4   7.4   0.84]\n",
      " [ 7.3   7.1   0.87]\n",
      " [ 7.6   7.9   0.88]\n",
      " [ 9.    9.4   0.75]\n",
      " [ 9.2   9.2   0.75]\n",
      " [ 9.6   9.2   0.74]\n",
      " [ 7.5   9.2   0.77]\n",
      " [ 6.7   7.1   0.72]\n",
      " [ 7.    7.4   0.81]\n",
      " [ 7.1   7.5   0.79]\n",
      " [ 7.8   8.    0.82]\n",
      " [ 7.2   7.    0.8 ]\n",
      " [ 7.5   8.1   0.74]\n",
      " [ 7.6   7.8   0.75]\n",
      " [ 7.1   7.9   0.75]\n",
      " [ 7.1   7.6   0.76]\n",
      " [ 7.3   7.3   0.79]\n",
      " [ 7.2   7.8   0.77]\n",
      " [ 6.8   7.4   0.75]\n",
      " [ 7.1   7.5   0.78]\n",
      " [ 7.6   8.2   0.79]\n",
      " [ 7.2   7.2   0.82]\n",
      " [ 7.2  10.3   0.7 ]\n",
      " [ 7.3  10.5   0.72]\n",
      " [ 7.2   9.2   0.72]\n",
      " [ 7.3  10.2   0.71]\n",
      " [ 7.3   9.7   0.72]\n",
      " [ 7.3  10.1   0.72]\n",
      " [ 5.8   8.7   0.73]\n",
      " [ 6.    8.2   0.71]\n",
      " [ 6.    7.5   0.72]\n",
      " [ 5.9   8.    0.72]\n",
      " [ 6.    8.4   0.74]\n",
      " [ 6.1   8.5   0.71]\n",
      " [ 6.3   7.7   0.72]\n",
      " [ 5.9   8.1   0.73]\n",
      " [ 6.5   8.5   0.72]\n",
      " [ 6.1   8.1   0.7 ]]\n"
     ]
    }
   ],
   "source": [
    "x=fruits.iloc[:,4:7].values\n",
    "print(x)"
   ]
  },
  {
   "cell_type": "code",
   "execution_count": 68,
   "id": "603ededc",
   "metadata": {},
   "outputs": [
    {
     "name": "stdout",
     "output_type": "stream",
     "text": [
      "[0.55 0.59 0.6  0.8  0.79 0.77 0.81 0.81 0.92 0.89 0.93 0.92 0.88 0.7\n",
      " 0.69 0.69 0.67 0.73 0.83 0.85 0.86 0.84 0.87 0.88 0.75 0.75 0.74 0.77\n",
      " 0.72 0.81 0.79 0.82 0.8  0.74 0.75 0.75 0.76 0.79 0.77 0.75 0.78 0.79\n",
      " 0.82 0.7  0.72 0.72 0.71 0.72 0.72 0.73 0.71 0.72 0.72 0.74 0.71 0.72\n",
      " 0.73 0.72 0.7 ]\n"
     ]
    }
   ],
   "source": [
    "y=fruits.iloc[:,6].values\n",
    "print(y)"
   ]
  },
  {
   "cell_type": "code",
   "execution_count": 69,
   "id": "e79a1f5b",
   "metadata": {},
   "outputs": [
    {
     "data": {
      "text/plain": [
       "RandomForestRegressor(random_state=0)"
      ]
     },
     "execution_count": 69,
     "metadata": {},
     "output_type": "execute_result"
    }
   ],
   "source": [
    "from sklearn.ensemble import RandomForestRegressor\n",
    "regressor=RandomForestRegressor(n_estimators=100,random_state=0)\n",
    "regressor.fit(X,y)"
   ]
  },
  {
   "cell_type": "code",
   "execution_count": 73,
   "id": "95e2dc1e",
   "metadata": {},
   "outputs": [
    {
     "ename": "ValueError",
     "evalue": "cannot reshape array of size 2 into shape (1,1)",
     "output_type": "error",
     "traceback": [
      "\u001b[1;31m---------------------------------------------------------------------------\u001b[0m",
      "\u001b[1;31mValueError\u001b[0m                                Traceback (most recent call last)",
      "\u001b[1;32m<ipython-input-73-e7d0e5b8ccb4>\u001b[0m in \u001b[0;36m<module>\u001b[1;34m\u001b[0m\n\u001b[1;32m----> 1\u001b[1;33m \u001b[0my_pred\u001b[0m\u001b[1;33m=\u001b[0m\u001b[0mregressor\u001b[0m\u001b[1;33m.\u001b[0m\u001b[0mpredict\u001b[0m\u001b[1;33m(\u001b[0m\u001b[0mnp\u001b[0m\u001b[1;33m.\u001b[0m\u001b[0marray\u001b[0m\u001b[1;33m(\u001b[0m\u001b[1;33m[\u001b[0m\u001b[1;36m5.2\u001b[0m\u001b[1;33m,\u001b[0m\u001b[1;36m7.2\u001b[0m\u001b[1;33m]\u001b[0m\u001b[1;33m)\u001b[0m\u001b[1;33m.\u001b[0m\u001b[0mreshape\u001b[0m\u001b[1;33m(\u001b[0m\u001b[1;36m1\u001b[0m\u001b[1;33m,\u001b[0m\u001b[1;36m1\u001b[0m\u001b[1;33m)\u001b[0m\u001b[1;33m)\u001b[0m\u001b[1;33m\u001b[0m\u001b[1;33m\u001b[0m\u001b[0m\n\u001b[0m",
      "\u001b[1;31mValueError\u001b[0m: cannot reshape array of size 2 into shape (1,1)"
     ]
    }
   ],
   "source": []
  },
  {
   "cell_type": "code",
   "execution_count": null,
   "id": "76b0fb0a",
   "metadata": {},
   "outputs": [],
   "source": []
  }
 ],
 "metadata": {
  "kernelspec": {
   "display_name": "Python 3",
   "language": "python",
   "name": "python3"
  },
  "language_info": {
   "codemirror_mode": {
    "name": "ipython",
    "version": 3
   },
   "file_extension": ".py",
   "mimetype": "text/x-python",
   "name": "python",
   "nbconvert_exporter": "python",
   "pygments_lexer": "ipython3",
   "version": "3.8.8"
  }
 },
 "nbformat": 4,
 "nbformat_minor": 5
}
