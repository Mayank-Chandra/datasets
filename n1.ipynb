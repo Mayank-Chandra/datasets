{
 "cells": [
  {
   "cell_type": "code",
   "execution_count": 1,
   "id": "864e7be9",
   "metadata": {},
   "outputs": [
    {
     "name": "stdout",
     "output_type": "stream",
     "text": [
      "[1 2 3]\n"
     ]
    }
   ],
   "source": [
    "import numpy as np\n",
    "a=np.array([1,2,3])\n",
    "print(a)"
   ]
  },
  {
   "cell_type": "code",
   "execution_count": 2,
   "id": "90d2bdb4",
   "metadata": {},
   "outputs": [
    {
     "name": "stdout",
     "output_type": "stream",
     "text": [
      "[[1 2 3]\n",
      " [4 5 6]]\n"
     ]
    }
   ],
   "source": [
    "import numpy as np\n",
    "a=np.array([[1,2,3],[4,5,6]])\n",
    "print(a)"
   ]
  },
  {
   "cell_type": "code",
   "execution_count": 3,
   "id": "29971ed0",
   "metadata": {},
   "outputs": [
    {
     "name": "stdout",
     "output_type": "stream",
     "text": [
      "[1 2 3]\n"
     ]
    }
   ],
   "source": [
    "import numpy as np\n",
    "a=np.array((1,2,3))\n",
    "print(a)"
   ]
  },
  {
   "cell_type": "code",
   "execution_count": 4,
   "id": "13b6a490",
   "metadata": {},
   "outputs": [
    {
     "name": "stdout",
     "output_type": "stream",
     "text": [
      "Initial Array\n",
      ": [[-1.   2.   0.   4. ]\n",
      " [ 4.  -0.5  6.   0. ]\n",
      " [ 2.6  0.   7.   8. ]\n",
      " [ 3.  -7.   4.   2. ]]\n",
      "Array with first 2 rows and alternate columns(0 and 2):\n",
      " [[-1.  0.]\n",
      " [ 4.  6.]]\n",
      "Index \n",
      " [0. 6. 2. 3.]\n"
     ]
    }
   ],
   "source": [
    "import numpy as np\n",
    "a=np.array([[-1,2,0,4],[4,-0.5,6,0],[2.6,0,7,8],[3,-7,4,2.0]])\n",
    "print(\"Initial Array\\n:\",a)\n",
    "sliced_arr=a[:2,::2]\n",
    "print(\"Array with first 2 rows and alternate columns(0 and 2):\\n\",sliced_arr)\n",
    "Index_arr=a[[1,1,0,3],[3,2,1,0]]\n",
    "print(\"Index \\n\",Index_arr)"
   ]
  },
  {
   "cell_type": "code",
   "execution_count": 5,
   "id": "ba77ad12",
   "metadata": {},
   "outputs": [
    {
     "name": "stdout",
     "output_type": "stream",
     "text": [
      "Adding 1 to every elements:  [[2 3]\n",
      " [4 5]]\n",
      "\n",
      " Subtracting 2 from each elements: [[ 2  1]\n",
      " [ 0 -1]]\n",
      "Sum of All array Elements: 10\n",
      "Array Sum:\n",
      " [[5 5]\n",
      " [5 5]]\n"
     ]
    }
   ],
   "source": [
    "import numpy as np\n",
    "a=np.array([[1,2],[3,4]])\n",
    "b=np.array([[4,3],[2,1]])\n",
    "print(\"Adding 1 to every elements: \",a+1)\n",
    "print(\"\\n Subtracting 2 from each elements:\",b-2)\n",
    "print(\"Sum of All array Elements:\",a.sum())\n",
    "print(\"Array Sum:\\n\",a+b)"
   ]
  },
  {
   "cell_type": "code",
   "execution_count": 7,
   "id": "05ffa5e8",
   "metadata": {},
   "outputs": [
    {
     "name": "stdout",
     "output_type": "stream",
     "text": [
      "Array Type: <class 'numpy.ndarray'>\n",
      "No of Dimensions: 2\n",
      "Shape Of Array: (2, 3)\n",
      "Size Of array: 6\n",
      "type of Element: int32\n"
     ]
    }
   ],
   "source": [
    "import numpy as np\n",
    "arr=np.array([[1,2,3],[4,5,6]])\n",
    "print(\"Array Type:\",type(arr))\n",
    "print(\"No of Dimensions:\",arr.ndim)\n",
    "print(\"Shape Of Array:\",arr.shape)\n",
    "print(\"Size Of array:\",arr.size)\n",
    "print(\"type of Element:\",arr.dtype)"
   ]
  },
  {
   "cell_type": "code",
   "execution_count": 15,
   "id": "2064b6f0",
   "metadata": {},
   "outputs": [
    {
     "name": "stdout",
     "output_type": "stream",
     "text": [
      "Array Created Using List:\n",
      " [[1. 2. 4.]\n",
      " [5. 8. 7.]]\n",
      "Array Created Using Tuple\n",
      " [1 2 3]\n",
      "\n",
      " An array initialized with all zeros\n",
      " [[0. 0. 0. 0.]\n",
      " [0. 0. 0. 0.]\n",
      " [0. 0. 0. 0.]]\n",
      "\n",
      " An array initialized with all 6s:\n",
      " [[6.+0.j 6.+0.j 6.+0.j]\n",
      " [6.+0.j 6.+0.j 6.+0.j]\n",
      " [6.+0.j 6.+0.j 6.+0.j]]\n",
      "\n",
      " A random Array\n",
      " [[0.34804011 0.62364037]\n",
      " [0.10764658 0.80131033]]\n",
      "\n",
      " A sequential array with steps of 5:\n",
      " [ 0  5 10 15 20 25]\n",
      "\n",
      " sequential array iwht 10 values btw 0 and 5\n",
      " [0.         0.55555556 1.11111111 1.66666667 2.22222222 2.77777778\n",
      " 3.33333333 3.88888889 4.44444444 5.        ]\n",
      "Original Array:\n",
      " [[1 2 3 4]\n",
      " [5 6 7 8]\n",
      " [1 2 0 1]]\n",
      "Reshape Array:\n",
      " [[[1 2]\n",
      "  [3 4]\n",
      "  [5 6]]\n",
      "\n",
      " [[7 8]\n",
      "  [1 2]\n",
      "  [0 1]]]\n",
      "\n",
      " Original Array:\n",
      " [[1 2 3]\n",
      " [4 5 6]]\n",
      "Flatten Array:\n",
      " [1 2 3 4 5 6]\n"
     ]
    }
   ],
   "source": [
    "import numpy as np\n",
    "a=np.array([[1,2,4],[5,8,7]],dtype='float')\n",
    "print(\"Array Created Using List:\\n\",a)\n",
    "b=np.array((1,2,3))\n",
    "print(\"Array Created Using Tuple\\n\",b)\n",
    "#Creating a 3x4 array with all zeros\n",
    "c=np.zeros((3,4))\n",
    "print(\"\\n An array initialized with all zeros\\n\",c)\n",
    "d=np.full((3,3),6,dtype='complex')\n",
    "print(\"\\n An array initialized with all 6s:\\n\",d)\n",
    "#Create an array with random values\n",
    "e=np.random.random((2,2))\n",
    "print(\"\\n A random Array\\n\",e)\n",
    "#Create a sequence of integers with 0 to 30 with steps of five\n",
    "f=np.arange(0,30,5)\n",
    "print(\"\\n A sequential array with steps of 5:\\n\",f)\n",
    "#Create a sequence of 10 values from range 0 to 5\n",
    "g=np.linspace(0,5,10)\n",
    "print('\\n sequential array iwht 10 values btw 0 and 5\\n',g)\n",
    "arr=np.array([[1,2,3,4],\n",
    "             [5,6,7,8],\n",
    "             [1,2,0,1]])\n",
    "newarr=arr.reshape(2,3,2)\n",
    "print(\"Original Array:\\n\",arr)\n",
    "print(\"Reshape Array:\\n\",newarr)\n",
    "arr=np.array([[1,2,3],[4,5,6]])\n",
    "flarr=arr.flatten()\n",
    "print(\"\\n Original Array:\\n\",arr)\n",
    "print(\"Flatten Array:\\n\",flarr)"
   ]
  },
  {
   "cell_type": "code",
   "execution_count": 16,
   "id": "cd0f464d",
   "metadata": {},
   "outputs": [
    {
     "name": "stdout",
     "output_type": "stream",
     "text": [
      "[[-1.  0.]\n",
      " [ 4.  6.]]\n",
      "[4. 6. 0. 3.]\n",
      "Elements Greater than zero:\n",
      " [2.  4.  4.  6.  2.6 7.  8.  3.  4.  2. ]\n"
     ]
    }
   ],
   "source": [
    "import numpy as np\n",
    "arr=np.array([[-1,2,0,4],[4,-0.5,6,0],[2.6,0,7,8],[3,-7,4,2.0]])\n",
    "#Slicing array\n",
    "temp=arr[:2,::2]\n",
    "print(temp)\n",
    "temp=arr[[0,1,2,3],[3,2,1,0]]\n",
    "print(temp)\n",
    "#boolean array indexing example\n",
    "cond=arr>0\n",
    "temp=arr[cond]\n",
    "print(\"Elements Greater than zero:\\n\",temp)"
   ]
  },
  {
   "cell_type": "code",
   "execution_count": 17,
   "id": "e65e0cef",
   "metadata": {},
   "outputs": [
    {
     "name": "stdout",
     "output_type": "stream",
     "text": [
      "Largest Element in array: 9\n",
      "Row Wise max elements: [6 7 9]\n",
      "Column wise min element: [1 1 2]\n",
      "Sum of All elements in Array: 38\n",
      "Cummulative Sum across each row: [[ 1  6 12]\n",
      " [ 4 11 13]\n",
      " [ 3  4 13]]\n"
     ]
    }
   ],
   "source": [
    "import numpy as np\n",
    "arr=np.array([[1,5,6],\n",
    "             [4,7,2],\n",
    "             [3,1,9]])\n",
    "print(\"Largest Element in array:\",arr.max())\n",
    "print(\"Row Wise max elements:\",arr.max(axis=1))\n",
    "print(\"Column wise min element:\",arr.min(axis=0))\n",
    "print(\"Sum of All elements in Array:\",arr.sum())\n",
    "print(\"Cummulative Sum across each row:\",arr.cumsum(axis=1))"
   ]
  },
  {
   "cell_type": "code",
   "execution_count": null,
   "id": "e45b9419",
   "metadata": {},
   "outputs": [],
   "source": []
  }
 ],
 "metadata": {
  "kernelspec": {
   "display_name": "Python 3",
   "language": "python",
   "name": "python3"
  },
  "language_info": {
   "codemirror_mode": {
    "name": "ipython",
    "version": 3
   },
   "file_extension": ".py",
   "mimetype": "text/x-python",
   "name": "python",
   "nbconvert_exporter": "python",
   "pygments_lexer": "ipython3",
   "version": "3.8.8"
  }
 },
 "nbformat": 4,
 "nbformat_minor": 5
}
